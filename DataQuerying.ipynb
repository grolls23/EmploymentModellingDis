{
 "cells": [
  {
   "cell_type": "markdown",
   "id": "f40320e1-1b46-448e-bcb9-6b723059597e",
   "metadata": {},
   "source": [
    "# Dissertation Data Querying\n",
    "### Gavin Rolls\n",
    "\n",
    "This script contains the queries I used to save OSM and Overture data locally for Greater London and Birmingham. Because it's easier to grab the data I need from my desktop as opposed to running these queries every time I need data, I'm leaving these queries here but only intend to use them once"
   ]
  },
  {
   "cell_type": "markdown",
   "id": "d0e343dc-a32f-422e-aa4b-c753c2b2f2fa",
   "metadata": {},
   "source": [
    "## Library Imports & Database Configuration"
   ]
  },
  {
   "cell_type": "code",
   "execution_count": 14,
   "id": "8916ac88-5d66-44aa-aca2-d928861f85e6",
   "metadata": {},
   "outputs": [],
   "source": [
    "#Library Imports - using DuckDB for Overture Import\n",
    "\n",
    "#Database\n",
    "import duckdb\n",
    "\n",
    "#Basics\n",
    "import pandas as pd\n",
    "import geopandas as gpd\n",
    "from geopy.geocoders import Nominatim\n",
    "\n",
    "#OpenStreetMap\n",
    "import osmnx as ox"
   ]
  },
  {
   "cell_type": "code",
   "execution_count": 15,
   "id": "92c4f543-73c7-4cd4-a414-7867417e19d1",
   "metadata": {},
   "outputs": [
    {
     "name": "stdout",
     "output_type": "stream",
     "text": [
      "Note: you may need to restart the kernel to use updated packages.\n",
      "Note: you may need to restart the kernel to use updated packages.\n",
      "There's a new jupysql version available (0.10.11), you're running 0.10.10. To upgrade: pip install jupysql --upgrade\n",
      "Deploy Shiny apps for free on Ploomber Cloud! Learn more: https://ploomber.io/s/signup\n"
     ]
    }
   ],
   "source": [
    "#Config SQL\n",
    "%pip install ipython-sql duckdb duckdb-engine jupysql --quiet\n",
    "%pip install --upgrade grpcio --quiet\n",
    "%load_ext sql"
   ]
  },
  {
   "cell_type": "code",
   "execution_count": 16,
   "id": "e73d3f61-3984-4551-b337-f40a75cf4b7f",
   "metadata": {},
   "outputs": [],
   "source": [
    "%config SqlMagic.autopandas = True\n",
    "%config SqlMagic.feedback = False\n",
    "%config SqlMagic.displaycon = False\n",
    "%sql duckdb:///:memory:"
   ]
  },
  {
   "cell_type": "code",
   "execution_count": 17,
   "id": "d7370f0f-7280-4b4b-a385-408918b69716",
   "metadata": {},
   "outputs": [
    {
     "data": {
      "text/html": [
       "<div>\n",
       "<style scoped>\n",
       "    .dataframe tbody tr th:only-of-type {\n",
       "        vertical-align: middle;\n",
       "    }\n",
       "\n",
       "    .dataframe tbody tr th {\n",
       "        vertical-align: top;\n",
       "    }\n",
       "\n",
       "    .dataframe thead th {\n",
       "        text-align: right;\n",
       "    }\n",
       "</style>\n",
       "<table border=\"1\" class=\"dataframe\">\n",
       "  <thead>\n",
       "    <tr style=\"text-align: right;\">\n",
       "      <th></th>\n",
       "      <th>Success</th>\n",
       "    </tr>\n",
       "  </thead>\n",
       "  <tbody>\n",
       "  </tbody>\n",
       "</table>\n",
       "</div>"
      ],
      "text/plain": [
       "Empty DataFrame\n",
       "Columns: [Success]\n",
       "Index: []"
      ]
     },
     "execution_count": 17,
     "metadata": {},
     "output_type": "execute_result"
    }
   ],
   "source": [
    "%%sql      \n",
    "INSTALL httpfs;\n",
    "\n",
    "LOAD httpfs;\n",
    "\n",
    "INSTALL spatial;\n",
    "\n",
    "LOAD spatial;\n",
    "\n",
    "SET s3_region='us-west-2';"
   ]
  },
  {
   "cell_type": "markdown",
   "id": "dd0a2533-d86b-4789-8cad-9ef3f325cdfe",
   "metadata": {},
   "source": [
    "## Get Bounding Boxes"
   ]
  },
  {
   "cell_type": "code",
   "execution_count": 25,
   "id": "d1bafd24-e28e-4217-8871-fac8566d8e76",
   "metadata": {},
   "outputs": [
    {
     "name": "stdout",
     "output_type": "stream",
     "text": [
      "London Bounding Box Coordinates:\n",
      "Min Longitude: -0.5103751\n",
      "Min Latitude: 51.2867601\n",
      "Max Longitude: 0.3340155\n",
      "Max Latitude: 51.6918741\n",
      "\n",
      "Birmingham Bounding Box Coordinates:\n",
      "Min Longitude: -2.0336486\n",
      "Min Latitude: 52.381053\n",
      "Max Longitude: -1.7288417\n",
      "Max Latitude: 52.6087058\n"
     ]
    }
   ],
   "source": [
    "#Get London Bounding Box\n",
    "\n",
    "# Initialize the geolocator\n",
    "geolocator = Nominatim(user_agent=\"geoapi\")\n",
    "\n",
    "# Get location data for London\n",
    "location = geolocator.geocode(\"London\")\n",
    "\n",
    "# Get the bounding box\n",
    "bounding_box_london = location.raw['boundingbox']\n",
    "\n",
    "min_lat_london, max_lat_london = float(bounding_box_london[0]), float(bounding_box_london[1])\n",
    "min_lon_london, max_lon_london = float(bounding_box_london[2]), float(bounding_box_london[3])\n",
    "\n",
    "print(\"London Bounding Box Coordinates:\")\n",
    "print(f\"Min Longitude: {min_lon_london}\")\n",
    "print(f\"Min Latitude: {min_lat_london}\")\n",
    "print(f\"Max Longitude: {max_lon_london}\")\n",
    "print(f\"Max Latitude: {max_lat_london}\")\n",
    "print()\n",
    "\n",
    "# Get location data for Birmingham\n",
    "location_birmingham = geolocator.geocode(\"Birmingham\")\n",
    "\n",
    "# Get the bounding box\n",
    "bounding_box_birmingham = location_birmingham.raw['boundingbox']\n",
    "\n",
    "# Convert bounding box to coordinates for Birmingham\n",
    "min_lat_birmingham, max_lat_birmingham = float(bounding_box_birmingham[0]), float(bounding_box_birmingham[1])\n",
    "min_lon_birmingham, max_lon_birmingham = float(bounding_box_birmingham[2]), float(bounding_box_birmingham[3])\n",
    "\n",
    "print(\"Birmingham Bounding Box Coordinates:\")\n",
    "print(f\"Min Longitude: {min_lon_birmingham}\")\n",
    "print(f\"Min Latitude: {min_lat_birmingham}\")\n",
    "print(f\"Max Longitude: {max_lon_birmingham}\")\n",
    "print(f\"Max Latitude: {max_lat_birmingham}\")\n"
   ]
  },
  {
   "cell_type": "markdown",
   "id": "94ab69cb-d6d6-4451-90e4-6ac98756bb45",
   "metadata": {},
   "source": [
    "## Download POIs - Overture"
   ]
  },
  {
   "cell_type": "markdown",
   "id": "1832db6b-299a-4f13-86f3-e425aa8015b2",
   "metadata": {},
   "source": [
    "### London"
   ]
  },
  {
   "cell_type": "code",
   "execution_count": 36,
   "id": "0f7e5efe-5a59-4887-8606-cff129c94aea",
   "metadata": {},
   "outputs": [
    {
     "data": {
      "application/vnd.jupyter.widget-view+json": {
       "model_id": "1c15edd3b64c427b89107bdaee113704",
       "version_major": 2,
       "version_minor": 0
      },
      "text/plain": [
       "FloatProgress(value=0.0, layout=Layout(width='auto'), style=ProgressStyle(bar_color='black'))"
      ]
     },
     "metadata": {},
     "output_type": "display_data"
    },
    {
     "data": {
      "text/html": [
       "<div>\n",
       "<style scoped>\n",
       "    .dataframe tbody tr th:only-of-type {\n",
       "        vertical-align: middle;\n",
       "    }\n",
       "\n",
       "    .dataframe tbody tr th {\n",
       "        vertical-align: top;\n",
       "    }\n",
       "\n",
       "    .dataframe thead th {\n",
       "        text-align: right;\n",
       "    }\n",
       "</style>\n",
       "<table border=\"1\" class=\"dataframe\">\n",
       "  <thead>\n",
       "    <tr style=\"text-align: right;\">\n",
       "      <th></th>\n",
       "      <th>Success</th>\n",
       "    </tr>\n",
       "  </thead>\n",
       "  <tbody>\n",
       "  </tbody>\n",
       "</table>\n",
       "</div>"
      ],
      "text/plain": [
       "Empty DataFrame\n",
       "Columns: [Success]\n",
       "Index: []"
      ]
     },
     "execution_count": 36,
     "metadata": {},
     "output_type": "execute_result"
    }
   ],
   "source": [
    "%%sql\n",
    "\n",
    "COPY (\n",
    "    SELECT\n",
    "        names.primary AS name,\n",
    "        categories.main as category,\n",
    "        ROUND(confidence,2) as confidence,\n",
    "        ST_GeomFromWKB(geometry) as geometry\n",
    "FROM read_parquet('s3://overturemaps-us-west-2/release/2024-05-16-beta.0/theme=places/*/*')\n",
    "WHERE\n",
    "    bbox.xmin BETWEEN -0.5103751 AND 0.3340155 AND\n",
    "    bbox.ymin BETWEEN 51.2867601 AND 51.6918741\n",
    ") TO 'data/overture_data/london_places.geojson' WITH (FORMAT GDAL, DRIVER 'GeoJSON', SRS 'EPSG:4326');"
   ]
  },
  {
   "cell_type": "markdown",
   "id": "81c9c0f7-f56a-470f-8237-ef3fc713ec9b",
   "metadata": {},
   "source": [
    "### Birmingham"
   ]
  },
  {
   "cell_type": "code",
   "execution_count": 37,
   "id": "7c410737-e887-4c6d-ab1b-55a8ca6fe68b",
   "metadata": {},
   "outputs": [
    {
     "data": {
      "application/vnd.jupyter.widget-view+json": {
       "model_id": "e670ebaaacf44a5794ab1b664f976f5d",
       "version_major": 2,
       "version_minor": 0
      },
      "text/plain": [
       "FloatProgress(value=0.0, layout=Layout(width='auto'), style=ProgressStyle(bar_color='black'))"
      ]
     },
     "metadata": {},
     "output_type": "display_data"
    },
    {
     "data": {
      "text/html": [
       "<div>\n",
       "<style scoped>\n",
       "    .dataframe tbody tr th:only-of-type {\n",
       "        vertical-align: middle;\n",
       "    }\n",
       "\n",
       "    .dataframe tbody tr th {\n",
       "        vertical-align: top;\n",
       "    }\n",
       "\n",
       "    .dataframe thead th {\n",
       "        text-align: right;\n",
       "    }\n",
       "</style>\n",
       "<table border=\"1\" class=\"dataframe\">\n",
       "  <thead>\n",
       "    <tr style=\"text-align: right;\">\n",
       "      <th></th>\n",
       "      <th>Success</th>\n",
       "    </tr>\n",
       "  </thead>\n",
       "  <tbody>\n",
       "  </tbody>\n",
       "</table>\n",
       "</div>"
      ],
      "text/plain": [
       "Empty DataFrame\n",
       "Columns: [Success]\n",
       "Index: []"
      ]
     },
     "execution_count": 37,
     "metadata": {},
     "output_type": "execute_result"
    }
   ],
   "source": [
    "%%sql\n",
    "\n",
    "COPY (\n",
    "    SELECT\n",
    "        names.primary AS name,\n",
    "        categories.main as category,\n",
    "        ROUND(confidence,2) as confidence,\n",
    "        ST_GeomFromWKB(geometry) as geometry\n",
    "FROM read_parquet('s3://overturemaps-us-west-2/release/2024-05-16-beta.0/theme=places/*/*')\n",
    "WHERE\n",
    "    bbox.xmin BETWEEN -2.0336486 AND -1.7288417 AND\n",
    "    bbox.ymin BETWEEN 52.381053 AND 52.6087058\n",
    ") TO 'data/overture_data/bham_places.geojson' WITH (FORMAT GDAL, DRIVER 'GeoJSON', SRS 'EPSG:4326');"
   ]
  },
  {
   "cell_type": "markdown",
   "id": "0a314b99-bb5d-411c-92ac-ff0a4e423bde",
   "metadata": {},
   "source": [
    "### Overture Download Stats"
   ]
  },
  {
   "cell_type": "code",
   "execution_count": 51,
   "id": "c78e7801-956e-4749-bacb-1b18d64161fe",
   "metadata": {},
   "outputs": [
    {
     "name": "stdout",
     "output_type": "stream",
     "text": [
      "London POI Count: 343712\n",
      "Birmingham POI Count: 46781\n"
     ]
    }
   ],
   "source": [
    "#Basic overview stats of London Data - Using the locally saved files here\n",
    "london_places = gpd.read_file('data/overture_data/london_places.geojson')\n",
    "bham_places = gpd.read_file('data/overture_data/bham_places.geojson')\n",
    "\n",
    "#Count of Features\n",
    "print(\"London POI Count: \" + str(london_places.shape[0]))\n",
    "print(\"Birmingham POI Count: \" + str(bham_places.shape[0]))"
   ]
  },
  {
   "cell_type": "markdown",
   "id": "fc856d4e-6481-4606-8ef6-815c76cdd782",
   "metadata": {},
   "source": [
    "## Download Buildings - OSM"
   ]
  },
  {
   "cell_type": "markdown",
   "id": "4d645600-1a7b-42e9-9722-e1de2555a5aa",
   "metadata": {},
   "source": [
    "### London"
   ]
  },
  {
   "cell_type": "code",
   "execution_count": 83,
   "id": "23c3074c-c669-4d93-8b39-3ed2463151ed",
   "metadata": {},
   "outputs": [
    {
     "name": "stderr",
     "output_type": "stream",
     "text": [
      "/var/folders/2b/877nyyk109x4dd8hgx4ckwl40000gn/T/ipykernel_13639/2344882920.py:5: UserWarning: The `utils.config` function is deprecated and will be removed in a future release. Instead, use the `settings` module directly to configure a global setting's value. For example, `ox.settings.log_console=True`.\n",
      "  ox.config(use_cache=True, log_console=True)\n"
     ]
    },
    {
     "ename": "ReadTimeout",
     "evalue": "HTTPSConnectionPool(host='overpass-api.de', port=443): Read timed out. (read timeout=180)",
     "output_type": "error",
     "traceback": [
      "\u001b[0;31m---------------------------------------------------------------------------\u001b[0m",
      "\u001b[0;31mTimeoutError\u001b[0m                              Traceback (most recent call last)",
      "File \u001b[0;32m~/anaconda3/envs/urbsim/lib/python3.11/site-packages/urllib3/connectionpool.py:536\u001b[0m, in \u001b[0;36mHTTPConnectionPool._make_request\u001b[0;34m(self, conn, method, url, body, headers, retries, timeout, chunked, response_conn, preload_content, decode_content, enforce_content_length)\u001b[0m\n\u001b[1;32m    535\u001b[0m \u001b[38;5;28;01mtry\u001b[39;00m:\n\u001b[0;32m--> 536\u001b[0m     response \u001b[38;5;241m=\u001b[39m \u001b[43mconn\u001b[49m\u001b[38;5;241;43m.\u001b[39;49m\u001b[43mgetresponse\u001b[49m\u001b[43m(\u001b[49m\u001b[43m)\u001b[49m\n\u001b[1;32m    537\u001b[0m \u001b[38;5;28;01mexcept\u001b[39;00m (BaseSSLError, \u001b[38;5;167;01mOSError\u001b[39;00m) \u001b[38;5;28;01mas\u001b[39;00m e:\n",
      "File \u001b[0;32m~/anaconda3/envs/urbsim/lib/python3.11/site-packages/urllib3/connection.py:461\u001b[0m, in \u001b[0;36mHTTPConnection.getresponse\u001b[0;34m(self)\u001b[0m\n\u001b[1;32m    460\u001b[0m \u001b[38;5;66;03m# Get the response from http.client.HTTPConnection\u001b[39;00m\n\u001b[0;32m--> 461\u001b[0m httplib_response \u001b[38;5;241m=\u001b[39m \u001b[38;5;28;43msuper\u001b[39;49m\u001b[43m(\u001b[49m\u001b[43m)\u001b[49m\u001b[38;5;241;43m.\u001b[39;49m\u001b[43mgetresponse\u001b[49m\u001b[43m(\u001b[49m\u001b[43m)\u001b[49m\n\u001b[1;32m    463\u001b[0m \u001b[38;5;28;01mtry\u001b[39;00m:\n",
      "File \u001b[0;32m~/anaconda3/envs/urbsim/lib/python3.11/http/client.py:1386\u001b[0m, in \u001b[0;36mHTTPConnection.getresponse\u001b[0;34m(self)\u001b[0m\n\u001b[1;32m   1385\u001b[0m \u001b[38;5;28;01mtry\u001b[39;00m:\n\u001b[0;32m-> 1386\u001b[0m     \u001b[43mresponse\u001b[49m\u001b[38;5;241;43m.\u001b[39;49m\u001b[43mbegin\u001b[49m\u001b[43m(\u001b[49m\u001b[43m)\u001b[49m\n\u001b[1;32m   1387\u001b[0m \u001b[38;5;28;01mexcept\u001b[39;00m \u001b[38;5;167;01mConnectionError\u001b[39;00m:\n",
      "File \u001b[0;32m~/anaconda3/envs/urbsim/lib/python3.11/http/client.py:325\u001b[0m, in \u001b[0;36mHTTPResponse.begin\u001b[0;34m(self)\u001b[0m\n\u001b[1;32m    324\u001b[0m \u001b[38;5;28;01mwhile\u001b[39;00m \u001b[38;5;28;01mTrue\u001b[39;00m:\n\u001b[0;32m--> 325\u001b[0m     version, status, reason \u001b[38;5;241m=\u001b[39m \u001b[38;5;28;43mself\u001b[39;49m\u001b[38;5;241;43m.\u001b[39;49m\u001b[43m_read_status\u001b[49m\u001b[43m(\u001b[49m\u001b[43m)\u001b[49m\n\u001b[1;32m    326\u001b[0m     \u001b[38;5;28;01mif\u001b[39;00m status \u001b[38;5;241m!=\u001b[39m CONTINUE:\n",
      "File \u001b[0;32m~/anaconda3/envs/urbsim/lib/python3.11/http/client.py:286\u001b[0m, in \u001b[0;36mHTTPResponse._read_status\u001b[0;34m(self)\u001b[0m\n\u001b[1;32m    285\u001b[0m \u001b[38;5;28;01mdef\u001b[39;00m \u001b[38;5;21m_read_status\u001b[39m(\u001b[38;5;28mself\u001b[39m):\n\u001b[0;32m--> 286\u001b[0m     line \u001b[38;5;241m=\u001b[39m \u001b[38;5;28mstr\u001b[39m(\u001b[38;5;28mself\u001b[39m\u001b[38;5;241m.\u001b[39mfp\u001b[38;5;241m.\u001b[39mreadline(_MAXLINE \u001b[38;5;241m+\u001b[39m \u001b[38;5;241m1\u001b[39m), \u001b[38;5;124m\"\u001b[39m\u001b[38;5;124miso-8859-1\u001b[39m\u001b[38;5;124m\"\u001b[39m)\n\u001b[1;32m    287\u001b[0m     \u001b[38;5;28;01mif\u001b[39;00m \u001b[38;5;28mlen\u001b[39m(line) \u001b[38;5;241m>\u001b[39m _MAXLINE:\n",
      "File \u001b[0;32m~/anaconda3/envs/urbsim/lib/python3.11/socket.py:706\u001b[0m, in \u001b[0;36mSocketIO.readinto\u001b[0;34m(self, b)\u001b[0m\n\u001b[1;32m    705\u001b[0m \u001b[38;5;28;01mtry\u001b[39;00m:\n\u001b[0;32m--> 706\u001b[0m     \u001b[38;5;28;01mreturn\u001b[39;00m \u001b[38;5;28;43mself\u001b[39;49m\u001b[38;5;241;43m.\u001b[39;49m\u001b[43m_sock\u001b[49m\u001b[38;5;241;43m.\u001b[39;49m\u001b[43mrecv_into\u001b[49m\u001b[43m(\u001b[49m\u001b[43mb\u001b[49m\u001b[43m)\u001b[49m\n\u001b[1;32m    707\u001b[0m \u001b[38;5;28;01mexcept\u001b[39;00m timeout:\n",
      "File \u001b[0;32m~/anaconda3/envs/urbsim/lib/python3.11/ssl.py:1315\u001b[0m, in \u001b[0;36mSSLSocket.recv_into\u001b[0;34m(self, buffer, nbytes, flags)\u001b[0m\n\u001b[1;32m   1312\u001b[0m         \u001b[38;5;28;01mraise\u001b[39;00m \u001b[38;5;167;01mValueError\u001b[39;00m(\n\u001b[1;32m   1313\u001b[0m           \u001b[38;5;124m\"\u001b[39m\u001b[38;5;124mnon-zero flags not allowed in calls to recv_into() on \u001b[39m\u001b[38;5;132;01m%s\u001b[39;00m\u001b[38;5;124m\"\u001b[39m \u001b[38;5;241m%\u001b[39m\n\u001b[1;32m   1314\u001b[0m           \u001b[38;5;28mself\u001b[39m\u001b[38;5;241m.\u001b[39m\u001b[38;5;18m__class__\u001b[39m)\n\u001b[0;32m-> 1315\u001b[0m     \u001b[38;5;28;01mreturn\u001b[39;00m \u001b[38;5;28;43mself\u001b[39;49m\u001b[38;5;241;43m.\u001b[39;49m\u001b[43mread\u001b[49m\u001b[43m(\u001b[49m\u001b[43mnbytes\u001b[49m\u001b[43m,\u001b[49m\u001b[43m \u001b[49m\u001b[43mbuffer\u001b[49m\u001b[43m)\u001b[49m\n\u001b[1;32m   1316\u001b[0m \u001b[38;5;28;01melse\u001b[39;00m:\n",
      "File \u001b[0;32m~/anaconda3/envs/urbsim/lib/python3.11/ssl.py:1167\u001b[0m, in \u001b[0;36mSSLSocket.read\u001b[0;34m(self, len, buffer)\u001b[0m\n\u001b[1;32m   1166\u001b[0m \u001b[38;5;28;01mif\u001b[39;00m buffer \u001b[38;5;129;01mis\u001b[39;00m \u001b[38;5;129;01mnot\u001b[39;00m \u001b[38;5;28;01mNone\u001b[39;00m:\n\u001b[0;32m-> 1167\u001b[0m     \u001b[38;5;28;01mreturn\u001b[39;00m \u001b[38;5;28;43mself\u001b[39;49m\u001b[38;5;241;43m.\u001b[39;49m\u001b[43m_sslobj\u001b[49m\u001b[38;5;241;43m.\u001b[39;49m\u001b[43mread\u001b[49m\u001b[43m(\u001b[49m\u001b[38;5;28;43mlen\u001b[39;49m\u001b[43m,\u001b[49m\u001b[43m \u001b[49m\u001b[43mbuffer\u001b[49m\u001b[43m)\u001b[49m\n\u001b[1;32m   1168\u001b[0m \u001b[38;5;28;01melse\u001b[39;00m:\n",
      "\u001b[0;31mTimeoutError\u001b[0m: The read operation timed out",
      "\nThe above exception was the direct cause of the following exception:\n",
      "\u001b[0;31mReadTimeoutError\u001b[0m                          Traceback (most recent call last)",
      "File \u001b[0;32m~/anaconda3/envs/urbsim/lib/python3.11/site-packages/requests/adapters.py:486\u001b[0m, in \u001b[0;36mHTTPAdapter.send\u001b[0;34m(self, request, stream, timeout, verify, cert, proxies)\u001b[0m\n\u001b[1;32m    485\u001b[0m \u001b[38;5;28;01mtry\u001b[39;00m:\n\u001b[0;32m--> 486\u001b[0m     resp \u001b[38;5;241m=\u001b[39m \u001b[43mconn\u001b[49m\u001b[38;5;241;43m.\u001b[39;49m\u001b[43murlopen\u001b[49m\u001b[43m(\u001b[49m\n\u001b[1;32m    487\u001b[0m \u001b[43m        \u001b[49m\u001b[43mmethod\u001b[49m\u001b[38;5;241;43m=\u001b[39;49m\u001b[43mrequest\u001b[49m\u001b[38;5;241;43m.\u001b[39;49m\u001b[43mmethod\u001b[49m\u001b[43m,\u001b[49m\n\u001b[1;32m    488\u001b[0m \u001b[43m        \u001b[49m\u001b[43murl\u001b[49m\u001b[38;5;241;43m=\u001b[39;49m\u001b[43murl\u001b[49m\u001b[43m,\u001b[49m\n\u001b[1;32m    489\u001b[0m \u001b[43m        \u001b[49m\u001b[43mbody\u001b[49m\u001b[38;5;241;43m=\u001b[39;49m\u001b[43mrequest\u001b[49m\u001b[38;5;241;43m.\u001b[39;49m\u001b[43mbody\u001b[49m\u001b[43m,\u001b[49m\n\u001b[1;32m    490\u001b[0m \u001b[43m        \u001b[49m\u001b[43mheaders\u001b[49m\u001b[38;5;241;43m=\u001b[39;49m\u001b[43mrequest\u001b[49m\u001b[38;5;241;43m.\u001b[39;49m\u001b[43mheaders\u001b[49m\u001b[43m,\u001b[49m\n\u001b[1;32m    491\u001b[0m \u001b[43m        \u001b[49m\u001b[43mredirect\u001b[49m\u001b[38;5;241;43m=\u001b[39;49m\u001b[38;5;28;43;01mFalse\u001b[39;49;00m\u001b[43m,\u001b[49m\n\u001b[1;32m    492\u001b[0m \u001b[43m        \u001b[49m\u001b[43massert_same_host\u001b[49m\u001b[38;5;241;43m=\u001b[39;49m\u001b[38;5;28;43;01mFalse\u001b[39;49;00m\u001b[43m,\u001b[49m\n\u001b[1;32m    493\u001b[0m \u001b[43m        \u001b[49m\u001b[43mpreload_content\u001b[49m\u001b[38;5;241;43m=\u001b[39;49m\u001b[38;5;28;43;01mFalse\u001b[39;49;00m\u001b[43m,\u001b[49m\n\u001b[1;32m    494\u001b[0m \u001b[43m        \u001b[49m\u001b[43mdecode_content\u001b[49m\u001b[38;5;241;43m=\u001b[39;49m\u001b[38;5;28;43;01mFalse\u001b[39;49;00m\u001b[43m,\u001b[49m\n\u001b[1;32m    495\u001b[0m \u001b[43m        \u001b[49m\u001b[43mretries\u001b[49m\u001b[38;5;241;43m=\u001b[39;49m\u001b[38;5;28;43mself\u001b[39;49m\u001b[38;5;241;43m.\u001b[39;49m\u001b[43mmax_retries\u001b[49m\u001b[43m,\u001b[49m\n\u001b[1;32m    496\u001b[0m \u001b[43m        \u001b[49m\u001b[43mtimeout\u001b[49m\u001b[38;5;241;43m=\u001b[39;49m\u001b[43mtimeout\u001b[49m\u001b[43m,\u001b[49m\n\u001b[1;32m    497\u001b[0m \u001b[43m        \u001b[49m\u001b[43mchunked\u001b[49m\u001b[38;5;241;43m=\u001b[39;49m\u001b[43mchunked\u001b[49m\u001b[43m,\u001b[49m\n\u001b[1;32m    498\u001b[0m \u001b[43m    \u001b[49m\u001b[43m)\u001b[49m\n\u001b[1;32m    500\u001b[0m \u001b[38;5;28;01mexcept\u001b[39;00m (ProtocolError, \u001b[38;5;167;01mOSError\u001b[39;00m) \u001b[38;5;28;01mas\u001b[39;00m err:\n",
      "File \u001b[0;32m~/anaconda3/envs/urbsim/lib/python3.11/site-packages/urllib3/connectionpool.py:844\u001b[0m, in \u001b[0;36mHTTPConnectionPool.urlopen\u001b[0;34m(self, method, url, body, headers, retries, redirect, assert_same_host, timeout, pool_timeout, release_conn, chunked, body_pos, preload_content, decode_content, **response_kw)\u001b[0m\n\u001b[1;32m    842\u001b[0m     new_e \u001b[38;5;241m=\u001b[39m ProtocolError(\u001b[38;5;124m\"\u001b[39m\u001b[38;5;124mConnection aborted.\u001b[39m\u001b[38;5;124m\"\u001b[39m, new_e)\n\u001b[0;32m--> 844\u001b[0m retries \u001b[38;5;241m=\u001b[39m \u001b[43mretries\u001b[49m\u001b[38;5;241;43m.\u001b[39;49m\u001b[43mincrement\u001b[49m\u001b[43m(\u001b[49m\n\u001b[1;32m    845\u001b[0m \u001b[43m    \u001b[49m\u001b[43mmethod\u001b[49m\u001b[43m,\u001b[49m\u001b[43m \u001b[49m\u001b[43murl\u001b[49m\u001b[43m,\u001b[49m\u001b[43m \u001b[49m\u001b[43merror\u001b[49m\u001b[38;5;241;43m=\u001b[39;49m\u001b[43mnew_e\u001b[49m\u001b[43m,\u001b[49m\u001b[43m \u001b[49m\u001b[43m_pool\u001b[49m\u001b[38;5;241;43m=\u001b[39;49m\u001b[38;5;28;43mself\u001b[39;49m\u001b[43m,\u001b[49m\u001b[43m \u001b[49m\u001b[43m_stacktrace\u001b[49m\u001b[38;5;241;43m=\u001b[39;49m\u001b[43msys\u001b[49m\u001b[38;5;241;43m.\u001b[39;49m\u001b[43mexc_info\u001b[49m\u001b[43m(\u001b[49m\u001b[43m)\u001b[49m\u001b[43m[\u001b[49m\u001b[38;5;241;43m2\u001b[39;49m\u001b[43m]\u001b[49m\n\u001b[1;32m    846\u001b[0m \u001b[43m\u001b[49m\u001b[43m)\u001b[49m\n\u001b[1;32m    847\u001b[0m retries\u001b[38;5;241m.\u001b[39msleep()\n",
      "File \u001b[0;32m~/anaconda3/envs/urbsim/lib/python3.11/site-packages/urllib3/util/retry.py:470\u001b[0m, in \u001b[0;36mRetry.increment\u001b[0;34m(self, method, url, response, error, _pool, _stacktrace)\u001b[0m\n\u001b[1;32m    469\u001b[0m \u001b[38;5;28;01mif\u001b[39;00m read \u001b[38;5;129;01mis\u001b[39;00m \u001b[38;5;28;01mFalse\u001b[39;00m \u001b[38;5;129;01mor\u001b[39;00m method \u001b[38;5;129;01mis\u001b[39;00m \u001b[38;5;28;01mNone\u001b[39;00m \u001b[38;5;129;01mor\u001b[39;00m \u001b[38;5;129;01mnot\u001b[39;00m \u001b[38;5;28mself\u001b[39m\u001b[38;5;241m.\u001b[39m_is_method_retryable(method):\n\u001b[0;32m--> 470\u001b[0m     \u001b[38;5;28;01mraise\u001b[39;00m \u001b[43mreraise\u001b[49m\u001b[43m(\u001b[49m\u001b[38;5;28;43mtype\u001b[39;49m\u001b[43m(\u001b[49m\u001b[43merror\u001b[49m\u001b[43m)\u001b[49m\u001b[43m,\u001b[49m\u001b[43m \u001b[49m\u001b[43merror\u001b[49m\u001b[43m,\u001b[49m\u001b[43m \u001b[49m\u001b[43m_stacktrace\u001b[49m\u001b[43m)\u001b[49m\n\u001b[1;32m    471\u001b[0m \u001b[38;5;28;01melif\u001b[39;00m read \u001b[38;5;129;01mis\u001b[39;00m \u001b[38;5;129;01mnot\u001b[39;00m \u001b[38;5;28;01mNone\u001b[39;00m:\n",
      "File \u001b[0;32m~/anaconda3/envs/urbsim/lib/python3.11/site-packages/urllib3/util/util.py:39\u001b[0m, in \u001b[0;36mreraise\u001b[0;34m(tp, value, tb)\u001b[0m\n\u001b[1;32m     38\u001b[0m         \u001b[38;5;28;01mraise\u001b[39;00m value\u001b[38;5;241m.\u001b[39mwith_traceback(tb)\n\u001b[0;32m---> 39\u001b[0m     \u001b[38;5;28;01mraise\u001b[39;00m value\n\u001b[1;32m     40\u001b[0m \u001b[38;5;28;01mfinally\u001b[39;00m:\n",
      "File \u001b[0;32m~/anaconda3/envs/urbsim/lib/python3.11/site-packages/urllib3/connectionpool.py:790\u001b[0m, in \u001b[0;36mHTTPConnectionPool.urlopen\u001b[0;34m(self, method, url, body, headers, retries, redirect, assert_same_host, timeout, pool_timeout, release_conn, chunked, body_pos, preload_content, decode_content, **response_kw)\u001b[0m\n\u001b[1;32m    789\u001b[0m \u001b[38;5;66;03m# Make the request on the HTTPConnection object\u001b[39;00m\n\u001b[0;32m--> 790\u001b[0m response \u001b[38;5;241m=\u001b[39m \u001b[38;5;28;43mself\u001b[39;49m\u001b[38;5;241;43m.\u001b[39;49m\u001b[43m_make_request\u001b[49m\u001b[43m(\u001b[49m\n\u001b[1;32m    791\u001b[0m \u001b[43m    \u001b[49m\u001b[43mconn\u001b[49m\u001b[43m,\u001b[49m\n\u001b[1;32m    792\u001b[0m \u001b[43m    \u001b[49m\u001b[43mmethod\u001b[49m\u001b[43m,\u001b[49m\n\u001b[1;32m    793\u001b[0m \u001b[43m    \u001b[49m\u001b[43murl\u001b[49m\u001b[43m,\u001b[49m\n\u001b[1;32m    794\u001b[0m \u001b[43m    \u001b[49m\u001b[43mtimeout\u001b[49m\u001b[38;5;241;43m=\u001b[39;49m\u001b[43mtimeout_obj\u001b[49m\u001b[43m,\u001b[49m\n\u001b[1;32m    795\u001b[0m \u001b[43m    \u001b[49m\u001b[43mbody\u001b[49m\u001b[38;5;241;43m=\u001b[39;49m\u001b[43mbody\u001b[49m\u001b[43m,\u001b[49m\n\u001b[1;32m    796\u001b[0m \u001b[43m    \u001b[49m\u001b[43mheaders\u001b[49m\u001b[38;5;241;43m=\u001b[39;49m\u001b[43mheaders\u001b[49m\u001b[43m,\u001b[49m\n\u001b[1;32m    797\u001b[0m \u001b[43m    \u001b[49m\u001b[43mchunked\u001b[49m\u001b[38;5;241;43m=\u001b[39;49m\u001b[43mchunked\u001b[49m\u001b[43m,\u001b[49m\n\u001b[1;32m    798\u001b[0m \u001b[43m    \u001b[49m\u001b[43mretries\u001b[49m\u001b[38;5;241;43m=\u001b[39;49m\u001b[43mretries\u001b[49m\u001b[43m,\u001b[49m\n\u001b[1;32m    799\u001b[0m \u001b[43m    \u001b[49m\u001b[43mresponse_conn\u001b[49m\u001b[38;5;241;43m=\u001b[39;49m\u001b[43mresponse_conn\u001b[49m\u001b[43m,\u001b[49m\n\u001b[1;32m    800\u001b[0m \u001b[43m    \u001b[49m\u001b[43mpreload_content\u001b[49m\u001b[38;5;241;43m=\u001b[39;49m\u001b[43mpreload_content\u001b[49m\u001b[43m,\u001b[49m\n\u001b[1;32m    801\u001b[0m \u001b[43m    \u001b[49m\u001b[43mdecode_content\u001b[49m\u001b[38;5;241;43m=\u001b[39;49m\u001b[43mdecode_content\u001b[49m\u001b[43m,\u001b[49m\n\u001b[1;32m    802\u001b[0m \u001b[43m    \u001b[49m\u001b[38;5;241;43m*\u001b[39;49m\u001b[38;5;241;43m*\u001b[39;49m\u001b[43mresponse_kw\u001b[49m\u001b[43m,\u001b[49m\n\u001b[1;32m    803\u001b[0m \u001b[43m\u001b[49m\u001b[43m)\u001b[49m\n\u001b[1;32m    805\u001b[0m \u001b[38;5;66;03m# Everything went great!\u001b[39;00m\n",
      "File \u001b[0;32m~/anaconda3/envs/urbsim/lib/python3.11/site-packages/urllib3/connectionpool.py:538\u001b[0m, in \u001b[0;36mHTTPConnectionPool._make_request\u001b[0;34m(self, conn, method, url, body, headers, retries, timeout, chunked, response_conn, preload_content, decode_content, enforce_content_length)\u001b[0m\n\u001b[1;32m    537\u001b[0m \u001b[38;5;28;01mexcept\u001b[39;00m (BaseSSLError, \u001b[38;5;167;01mOSError\u001b[39;00m) \u001b[38;5;28;01mas\u001b[39;00m e:\n\u001b[0;32m--> 538\u001b[0m     \u001b[38;5;28;43mself\u001b[39;49m\u001b[38;5;241;43m.\u001b[39;49m\u001b[43m_raise_timeout\u001b[49m\u001b[43m(\u001b[49m\u001b[43merr\u001b[49m\u001b[38;5;241;43m=\u001b[39;49m\u001b[43me\u001b[49m\u001b[43m,\u001b[49m\u001b[43m \u001b[49m\u001b[43murl\u001b[49m\u001b[38;5;241;43m=\u001b[39;49m\u001b[43murl\u001b[49m\u001b[43m,\u001b[49m\u001b[43m \u001b[49m\u001b[43mtimeout_value\u001b[49m\u001b[38;5;241;43m=\u001b[39;49m\u001b[43mread_timeout\u001b[49m\u001b[43m)\u001b[49m\n\u001b[1;32m    539\u001b[0m     \u001b[38;5;28;01mraise\u001b[39;00m\n",
      "File \u001b[0;32m~/anaconda3/envs/urbsim/lib/python3.11/site-packages/urllib3/connectionpool.py:370\u001b[0m, in \u001b[0;36mHTTPConnectionPool._raise_timeout\u001b[0;34m(self, err, url, timeout_value)\u001b[0m\n\u001b[1;32m    369\u001b[0m \u001b[38;5;28;01mif\u001b[39;00m \u001b[38;5;28misinstance\u001b[39m(err, SocketTimeout):\n\u001b[0;32m--> 370\u001b[0m     \u001b[38;5;28;01mraise\u001b[39;00m ReadTimeoutError(\n\u001b[1;32m    371\u001b[0m         \u001b[38;5;28mself\u001b[39m, url, \u001b[38;5;124mf\u001b[39m\u001b[38;5;124m\"\u001b[39m\u001b[38;5;124mRead timed out. (read timeout=\u001b[39m\u001b[38;5;132;01m{\u001b[39;00mtimeout_value\u001b[38;5;132;01m}\u001b[39;00m\u001b[38;5;124m)\u001b[39m\u001b[38;5;124m\"\u001b[39m\n\u001b[1;32m    372\u001b[0m     ) \u001b[38;5;28;01mfrom\u001b[39;00m \u001b[38;5;21;01merr\u001b[39;00m\n\u001b[1;32m    374\u001b[0m \u001b[38;5;66;03m# See the above comment about EAGAIN in Python 3.\u001b[39;00m\n",
      "\u001b[0;31mReadTimeoutError\u001b[0m: HTTPSConnectionPool(host='overpass-api.de', port=443): Read timed out. (read timeout=180)",
      "\nDuring handling of the above exception, another exception occurred:\n",
      "\u001b[0;31mReadTimeout\u001b[0m                               Traceback (most recent call last)",
      "Cell \u001b[0;32mIn[83], line 7\u001b[0m\n\u001b[1;32m      4\u001b[0m \u001b[38;5;66;03m#Test new config\u001b[39;00m\n\u001b[1;32m      5\u001b[0m ox\u001b[38;5;241m.\u001b[39mconfig(use_cache\u001b[38;5;241m=\u001b[39m\u001b[38;5;28;01mTrue\u001b[39;00m, log_console\u001b[38;5;241m=\u001b[39m\u001b[38;5;28;01mTrue\u001b[39;00m)\n\u001b[0;32m----> 7\u001b[0m buildings \u001b[38;5;241m=\u001b[39m \u001b[43mox\u001b[49m\u001b[38;5;241;43m.\u001b[39;49m\u001b[43mfeatures_from_place\u001b[49m\u001b[43m(\u001b[49m\u001b[43mplace_name\u001b[49m\u001b[43m,\u001b[49m\u001b[43m \u001b[49m\u001b[43mtags\u001b[49m\u001b[38;5;241;43m=\u001b[39;49m\u001b[43m{\u001b[49m\u001b[38;5;124;43m'\u001b[39;49m\u001b[38;5;124;43mbuilding\u001b[39;49m\u001b[38;5;124;43m'\u001b[39;49m\u001b[43m:\u001b[49m\u001b[43m \u001b[49m\u001b[38;5;28;43;01mTrue\u001b[39;49;00m\u001b[43m}\u001b[49m\u001b[43m)\u001b[49m\n\u001b[1;32m      8\u001b[0m buildings \u001b[38;5;241m=\u001b[39m buildings[buildings\u001b[38;5;241m.\u001b[39mgeometry\u001b[38;5;241m.\u001b[39mnotnull()]\n\u001b[1;32m      9\u001b[0m building_footprints \u001b[38;5;241m=\u001b[39m buildings[buildings\u001b[38;5;241m.\u001b[39mgeom_type\u001b[38;5;241m.\u001b[39misin([\u001b[38;5;124m'\u001b[39m\u001b[38;5;124mPolygon\u001b[39m\u001b[38;5;124m'\u001b[39m, \u001b[38;5;124m'\u001b[39m\u001b[38;5;124mMultiPolygon\u001b[39m\u001b[38;5;124m'\u001b[39m])]\n",
      "File \u001b[0;32m~/anaconda3/envs/urbsim/lib/python3.11/site-packages/osmnx/features.py:285\u001b[0m, in \u001b[0;36mfeatures_from_place\u001b[0;34m(query, tags, which_result, buffer_dist)\u001b[0m\n\u001b[1;32m    282\u001b[0m utils\u001b[38;5;241m.\u001b[39mlog(\u001b[38;5;124m\"\u001b[39m\u001b[38;5;124mConstructed place geometry polygon(s) to query API\u001b[39m\u001b[38;5;124m\"\u001b[39m)\n\u001b[1;32m    284\u001b[0m \u001b[38;5;66;03m# create GeoDataFrame using this polygon(s) geometry\u001b[39;00m\n\u001b[0;32m--> 285\u001b[0m \u001b[38;5;28;01mreturn\u001b[39;00m \u001b[43mfeatures_from_polygon\u001b[49m\u001b[43m(\u001b[49m\u001b[43mpolygon\u001b[49m\u001b[43m,\u001b[49m\u001b[43m \u001b[49m\u001b[43mtags\u001b[49m\u001b[43m)\u001b[49m\n",
      "File \u001b[0;32m~/anaconda3/envs/urbsim/lib/python3.11/site-packages/osmnx/features.py:336\u001b[0m, in \u001b[0;36mfeatures_from_polygon\u001b[0;34m(polygon, tags)\u001b[0m\n\u001b[1;32m    333\u001b[0m response_jsons \u001b[38;5;241m=\u001b[39m _overpass\u001b[38;5;241m.\u001b[39m_download_overpass_features(polygon, tags)\n\u001b[1;32m    335\u001b[0m \u001b[38;5;66;03m# create GeoDataFrame from the downloaded data\u001b[39;00m\n\u001b[0;32m--> 336\u001b[0m \u001b[38;5;28;01mreturn\u001b[39;00m \u001b[43m_create_gdf\u001b[49m\u001b[43m(\u001b[49m\u001b[43mresponse_jsons\u001b[49m\u001b[43m,\u001b[49m\u001b[43m \u001b[49m\u001b[43mpolygon\u001b[49m\u001b[43m,\u001b[49m\u001b[43m \u001b[49m\u001b[43mtags\u001b[49m\u001b[43m)\u001b[49m\n",
      "File \u001b[0;32m~/anaconda3/envs/urbsim/lib/python3.11/site-packages/osmnx/features.py:427\u001b[0m, in \u001b[0;36m_create_gdf\u001b[0;34m(response_jsons, polygon, tags)\u001b[0m\n\u001b[1;32m    424\u001b[0m relation_types \u001b[38;5;241m=\u001b[39m {\u001b[38;5;124m\"\u001b[39m\u001b[38;5;124mboundary\u001b[39m\u001b[38;5;124m\"\u001b[39m, \u001b[38;5;124m\"\u001b[39m\u001b[38;5;124mmultipolygon\u001b[39m\u001b[38;5;124m\"\u001b[39m}\n\u001b[1;32m    426\u001b[0m \u001b[38;5;66;03m# extract geometries from the downloaded osm data\u001b[39;00m\n\u001b[0;32m--> 427\u001b[0m \u001b[43m\u001b[49m\u001b[38;5;28;43;01mfor\u001b[39;49;00m\u001b[43m \u001b[49m\u001b[43mresponse_json\u001b[49m\u001b[43m \u001b[49m\u001b[38;5;129;43;01min\u001b[39;49;00m\u001b[43m \u001b[49m\u001b[43mresponse_jsons\u001b[49m\u001b[43m:\u001b[49m\n\u001b[1;32m    428\u001b[0m \u001b[43m    \u001b[49m\u001b[43mresponse_count\u001b[49m\u001b[43m \u001b[49m\u001b[38;5;241;43m+\u001b[39;49m\u001b[38;5;241;43m=\u001b[39;49m\u001b[43m \u001b[49m\u001b[38;5;241;43m1\u001b[39;49m\n\u001b[1;32m    430\u001b[0m \u001b[43m    \u001b[49m\u001b[38;5;66;43;03m# Parses the JSON of OSM nodes, ways and (multipolygon) relations\u001b[39;49;00m\n\u001b[1;32m    431\u001b[0m \u001b[43m    \u001b[49m\u001b[38;5;66;43;03m# to dictionaries of coordinates, Shapely Points, LineStrings,\u001b[39;49;00m\n\u001b[1;32m    432\u001b[0m \u001b[43m    \u001b[49m\u001b[38;5;66;43;03m# Polygons and MultiPolygons\u001b[39;49;00m\n",
      "File \u001b[0;32m~/anaconda3/envs/urbsim/lib/python3.11/site-packages/osmnx/_overpass.py:352\u001b[0m, in \u001b[0;36m_download_overpass_features\u001b[0;34m(polygon, tags)\u001b[0m\n\u001b[1;32m    350\u001b[0m \u001b[38;5;28;01mfor\u001b[39;00m polygon_coord_str \u001b[38;5;129;01min\u001b[39;00m polygon_coord_strs:\n\u001b[1;32m    351\u001b[0m     query_str \u001b[38;5;241m=\u001b[39m _create_overpass_query(polygon_coord_str, tags)\n\u001b[0;32m--> 352\u001b[0m     \u001b[38;5;28;01myield\u001b[39;00m \u001b[43m_overpass_request\u001b[49m\u001b[43m(\u001b[49m\u001b[43mdata\u001b[49m\u001b[38;5;241;43m=\u001b[39;49m\u001b[43m{\u001b[49m\u001b[38;5;124;43m\"\u001b[39;49m\u001b[38;5;124;43mdata\u001b[39;49m\u001b[38;5;124;43m\"\u001b[39;49m\u001b[43m:\u001b[49m\u001b[43m \u001b[49m\u001b[43mquery_str\u001b[49m\u001b[43m}\u001b[49m\u001b[43m)\u001b[49m\n",
      "File \u001b[0;32m~/anaconda3/envs/urbsim/lib/python3.11/site-packages/osmnx/_overpass.py:393\u001b[0m, in \u001b[0;36m_overpass_request\u001b[0;34m(data, pause, error_pause)\u001b[0m\n\u001b[1;32m    391\u001b[0m \u001b[38;5;66;03m# transmit the HTTP POST request\u001b[39;00m\n\u001b[1;32m    392\u001b[0m utils\u001b[38;5;241m.\u001b[39mlog(\u001b[38;5;124mf\u001b[39m\u001b[38;5;124m\"\u001b[39m\u001b[38;5;124mPost \u001b[39m\u001b[38;5;132;01m{\u001b[39;00mprepared_url\u001b[38;5;132;01m}\u001b[39;00m\u001b[38;5;124m with timeout=\u001b[39m\u001b[38;5;132;01m{\u001b[39;00msettings\u001b[38;5;241m.\u001b[39mtimeout\u001b[38;5;132;01m}\u001b[39;00m\u001b[38;5;124m\"\u001b[39m)\n\u001b[0;32m--> 393\u001b[0m response \u001b[38;5;241m=\u001b[39m \u001b[43mrequests\u001b[49m\u001b[38;5;241;43m.\u001b[39;49m\u001b[43mpost\u001b[49m\u001b[43m(\u001b[49m\n\u001b[1;32m    394\u001b[0m \u001b[43m    \u001b[49m\u001b[43murl\u001b[49m\u001b[43m,\u001b[49m\n\u001b[1;32m    395\u001b[0m \u001b[43m    \u001b[49m\u001b[43mdata\u001b[49m\u001b[38;5;241;43m=\u001b[39;49m\u001b[43mdata\u001b[49m\u001b[43m,\u001b[49m\n\u001b[1;32m    396\u001b[0m \u001b[43m    \u001b[49m\u001b[43mtimeout\u001b[49m\u001b[38;5;241;43m=\u001b[39;49m\u001b[43msettings\u001b[49m\u001b[38;5;241;43m.\u001b[39;49m\u001b[43mtimeout\u001b[49m\u001b[43m,\u001b[49m\n\u001b[1;32m    397\u001b[0m \u001b[43m    \u001b[49m\u001b[43mheaders\u001b[49m\u001b[38;5;241;43m=\u001b[39;49m\u001b[43m_downloader\u001b[49m\u001b[38;5;241;43m.\u001b[39;49m\u001b[43m_get_http_headers\u001b[49m\u001b[43m(\u001b[49m\u001b[43m)\u001b[49m\u001b[43m,\u001b[49m\n\u001b[1;32m    398\u001b[0m \u001b[43m    \u001b[49m\u001b[38;5;241;43m*\u001b[39;49m\u001b[38;5;241;43m*\u001b[39;49m\u001b[43msettings\u001b[49m\u001b[38;5;241;43m.\u001b[39;49m\u001b[43mrequests_kwargs\u001b[49m\u001b[43m,\u001b[49m\n\u001b[1;32m    399\u001b[0m \u001b[43m\u001b[49m\u001b[43m)\u001b[49m\n\u001b[1;32m    401\u001b[0m \u001b[38;5;66;03m# handle 429 and 504 errors by pausing then recursively re-trying request\u001b[39;00m\n\u001b[1;32m    402\u001b[0m \u001b[38;5;28;01mif\u001b[39;00m response\u001b[38;5;241m.\u001b[39mstatus_code \u001b[38;5;129;01min\u001b[39;00m {\u001b[38;5;241m429\u001b[39m, \u001b[38;5;241m504\u001b[39m}:  \u001b[38;5;66;03m# pragma: no cover\u001b[39;00m\n",
      "File \u001b[0;32m~/anaconda3/envs/urbsim/lib/python3.11/site-packages/requests/api.py:115\u001b[0m, in \u001b[0;36mpost\u001b[0;34m(url, data, json, **kwargs)\u001b[0m\n\u001b[1;32m    103\u001b[0m \u001b[38;5;28;01mdef\u001b[39;00m \u001b[38;5;21mpost\u001b[39m(url, data\u001b[38;5;241m=\u001b[39m\u001b[38;5;28;01mNone\u001b[39;00m, json\u001b[38;5;241m=\u001b[39m\u001b[38;5;28;01mNone\u001b[39;00m, \u001b[38;5;241m*\u001b[39m\u001b[38;5;241m*\u001b[39mkwargs):\n\u001b[1;32m    104\u001b[0m \u001b[38;5;250m    \u001b[39m\u001b[38;5;124mr\u001b[39m\u001b[38;5;124;03m\"\"\"Sends a POST request.\u001b[39;00m\n\u001b[1;32m    105\u001b[0m \n\u001b[1;32m    106\u001b[0m \u001b[38;5;124;03m    :param url: URL for the new :class:`Request` object.\u001b[39;00m\n\u001b[0;32m   (...)\u001b[0m\n\u001b[1;32m    112\u001b[0m \u001b[38;5;124;03m    :rtype: requests.Response\u001b[39;00m\n\u001b[1;32m    113\u001b[0m \u001b[38;5;124;03m    \"\"\"\u001b[39;00m\n\u001b[0;32m--> 115\u001b[0m     \u001b[38;5;28;01mreturn\u001b[39;00m \u001b[43mrequest\u001b[49m\u001b[43m(\u001b[49m\u001b[38;5;124;43m\"\u001b[39;49m\u001b[38;5;124;43mpost\u001b[39;49m\u001b[38;5;124;43m\"\u001b[39;49m\u001b[43m,\u001b[49m\u001b[43m \u001b[49m\u001b[43murl\u001b[49m\u001b[43m,\u001b[49m\u001b[43m \u001b[49m\u001b[43mdata\u001b[49m\u001b[38;5;241;43m=\u001b[39;49m\u001b[43mdata\u001b[49m\u001b[43m,\u001b[49m\u001b[43m \u001b[49m\u001b[43mjson\u001b[49m\u001b[38;5;241;43m=\u001b[39;49m\u001b[43mjson\u001b[49m\u001b[43m,\u001b[49m\u001b[43m \u001b[49m\u001b[38;5;241;43m*\u001b[39;49m\u001b[38;5;241;43m*\u001b[39;49m\u001b[43mkwargs\u001b[49m\u001b[43m)\u001b[49m\n",
      "File \u001b[0;32m~/anaconda3/envs/urbsim/lib/python3.11/site-packages/requests/api.py:59\u001b[0m, in \u001b[0;36mrequest\u001b[0;34m(method, url, **kwargs)\u001b[0m\n\u001b[1;32m     55\u001b[0m \u001b[38;5;66;03m# By using the 'with' statement we are sure the session is closed, thus we\u001b[39;00m\n\u001b[1;32m     56\u001b[0m \u001b[38;5;66;03m# avoid leaving sockets open which can trigger a ResourceWarning in some\u001b[39;00m\n\u001b[1;32m     57\u001b[0m \u001b[38;5;66;03m# cases, and look like a memory leak in others.\u001b[39;00m\n\u001b[1;32m     58\u001b[0m \u001b[38;5;28;01mwith\u001b[39;00m sessions\u001b[38;5;241m.\u001b[39mSession() \u001b[38;5;28;01mas\u001b[39;00m session:\n\u001b[0;32m---> 59\u001b[0m     \u001b[38;5;28;01mreturn\u001b[39;00m \u001b[43msession\u001b[49m\u001b[38;5;241;43m.\u001b[39;49m\u001b[43mrequest\u001b[49m\u001b[43m(\u001b[49m\u001b[43mmethod\u001b[49m\u001b[38;5;241;43m=\u001b[39;49m\u001b[43mmethod\u001b[49m\u001b[43m,\u001b[49m\u001b[43m \u001b[49m\u001b[43murl\u001b[49m\u001b[38;5;241;43m=\u001b[39;49m\u001b[43murl\u001b[49m\u001b[43m,\u001b[49m\u001b[43m \u001b[49m\u001b[38;5;241;43m*\u001b[39;49m\u001b[38;5;241;43m*\u001b[39;49m\u001b[43mkwargs\u001b[49m\u001b[43m)\u001b[49m\n",
      "File \u001b[0;32m~/anaconda3/envs/urbsim/lib/python3.11/site-packages/requests/sessions.py:589\u001b[0m, in \u001b[0;36mSession.request\u001b[0;34m(self, method, url, params, data, headers, cookies, files, auth, timeout, allow_redirects, proxies, hooks, stream, verify, cert, json)\u001b[0m\n\u001b[1;32m    584\u001b[0m send_kwargs \u001b[38;5;241m=\u001b[39m {\n\u001b[1;32m    585\u001b[0m     \u001b[38;5;124m\"\u001b[39m\u001b[38;5;124mtimeout\u001b[39m\u001b[38;5;124m\"\u001b[39m: timeout,\n\u001b[1;32m    586\u001b[0m     \u001b[38;5;124m\"\u001b[39m\u001b[38;5;124mallow_redirects\u001b[39m\u001b[38;5;124m\"\u001b[39m: allow_redirects,\n\u001b[1;32m    587\u001b[0m }\n\u001b[1;32m    588\u001b[0m send_kwargs\u001b[38;5;241m.\u001b[39mupdate(settings)\n\u001b[0;32m--> 589\u001b[0m resp \u001b[38;5;241m=\u001b[39m \u001b[38;5;28;43mself\u001b[39;49m\u001b[38;5;241;43m.\u001b[39;49m\u001b[43msend\u001b[49m\u001b[43m(\u001b[49m\u001b[43mprep\u001b[49m\u001b[43m,\u001b[49m\u001b[43m \u001b[49m\u001b[38;5;241;43m*\u001b[39;49m\u001b[38;5;241;43m*\u001b[39;49m\u001b[43msend_kwargs\u001b[49m\u001b[43m)\u001b[49m\n\u001b[1;32m    591\u001b[0m \u001b[38;5;28;01mreturn\u001b[39;00m resp\n",
      "File \u001b[0;32m~/anaconda3/envs/urbsim/lib/python3.11/site-packages/requests/sessions.py:703\u001b[0m, in \u001b[0;36mSession.send\u001b[0;34m(self, request, **kwargs)\u001b[0m\n\u001b[1;32m    700\u001b[0m start \u001b[38;5;241m=\u001b[39m preferred_clock()\n\u001b[1;32m    702\u001b[0m \u001b[38;5;66;03m# Send the request\u001b[39;00m\n\u001b[0;32m--> 703\u001b[0m r \u001b[38;5;241m=\u001b[39m \u001b[43madapter\u001b[49m\u001b[38;5;241;43m.\u001b[39;49m\u001b[43msend\u001b[49m\u001b[43m(\u001b[49m\u001b[43mrequest\u001b[49m\u001b[43m,\u001b[49m\u001b[43m \u001b[49m\u001b[38;5;241;43m*\u001b[39;49m\u001b[38;5;241;43m*\u001b[39;49m\u001b[43mkwargs\u001b[49m\u001b[43m)\u001b[49m\n\u001b[1;32m    705\u001b[0m \u001b[38;5;66;03m# Total elapsed time of the request (approximately)\u001b[39;00m\n\u001b[1;32m    706\u001b[0m elapsed \u001b[38;5;241m=\u001b[39m preferred_clock() \u001b[38;5;241m-\u001b[39m start\n",
      "File \u001b[0;32m~/anaconda3/envs/urbsim/lib/python3.11/site-packages/requests/adapters.py:532\u001b[0m, in \u001b[0;36mHTTPAdapter.send\u001b[0;34m(self, request, stream, timeout, verify, cert, proxies)\u001b[0m\n\u001b[1;32m    530\u001b[0m     \u001b[38;5;28;01mraise\u001b[39;00m SSLError(e, request\u001b[38;5;241m=\u001b[39mrequest)\n\u001b[1;32m    531\u001b[0m \u001b[38;5;28;01melif\u001b[39;00m \u001b[38;5;28misinstance\u001b[39m(e, ReadTimeoutError):\n\u001b[0;32m--> 532\u001b[0m     \u001b[38;5;28;01mraise\u001b[39;00m ReadTimeout(e, request\u001b[38;5;241m=\u001b[39mrequest)\n\u001b[1;32m    533\u001b[0m \u001b[38;5;28;01melif\u001b[39;00m \u001b[38;5;28misinstance\u001b[39m(e, _InvalidHeader):\n\u001b[1;32m    534\u001b[0m     \u001b[38;5;28;01mraise\u001b[39;00m InvalidHeader(e, request\u001b[38;5;241m=\u001b[39mrequest)\n",
      "\u001b[0;31mReadTimeout\u001b[0m: HTTPSConnectionPool(host='overpass-api.de', port=443): Read timed out. (read timeout=180)"
     ]
    }
   ],
   "source": [
    "#Download Data for 32 Boroughs (Exc. City of London)\n",
    "place_name = 'London, United Kingdom'\n",
    "\n",
    "#Test new config\n",
    "ox.config(use_cache=True, log_console=True)\n",
    "\n",
    "buildings = ox.features_from_place(place_name, tags={'building': True})\n",
    "buildings = buildings[buildings.geometry.notnull()]\n",
    "building_footprints = buildings[buildings.geom_type.isin(['Polygon', 'MultiPolygon'])]\n",
    "\n",
    "for col in building_footprints.columns:\n",
    "    if building_footprints.apply(lambda x: isinstance(x, list)).any():\n",
    "        building_footprints = building_footprints[col].apply(lambda x: str(x) if isinstance(x, list) else x)\n",
    "\n",
    "building_footprints = building_footprints[['name', 'geometry']].reset_index()\n",
    "print(building_footprints)\n",
    "        \n",
    "# Save the combined GeoDataFrame to a geojson file\n",
    "building_footprints.to_file(\"data/osm_data/boroughs_buildings.geojson\", driver=\"GeoJSON\")"
   ]
  },
  {
   "cell_type": "markdown",
   "id": "4611fa83-171c-4db9-81a5-3301afc3b00b",
   "metadata": {},
   "source": [
    "### City of London"
   ]
  },
  {
   "cell_type": "code",
   "execution_count": 89,
   "id": "f26abc27-b641-4329-a659-7245d42d09d4",
   "metadata": {},
   "outputs": [],
   "source": [
    "#Add City of London\n",
    "place_name = 'City of London, England, United Kingdom'\n",
    "\n",
    "buildings_city = ox.features_from_place(place_name, tags={'building': True})\n",
    "buildings_city = buildings_city[buildings_city.geometry.notnull()]\n",
    "building_footprints_city = buildings_city[buildings_city.geom_type.isin(['Polygon', 'MultiPolygon'])]\n",
    "\n",
    "for col in building_footprints_city.columns:\n",
    "    if building_footprints_city.apply(lambda x: isinstance(x, list)).any():\n",
    "        building_footprints_city = building_footprints_city[col].apply(lambda x: str(x) if isinstance(x, list) else x)\n",
    "\n",
    "building_footprints_city = building_footprints_city[['name', 'geometry']].reset_index()\n",
    "\n",
    "building_footprints_combined = pd.concat([building_footprints, building_footprints_city], ignore_index=True)\n",
    "        \n",
    "# Save the combined GeoDataFrame to a geojson file\n",
    "building_footprints_combined.to_file(\"data/osm_data/all_london_buildings.geojson\", driver=\"GeoJSON\")"
   ]
  },
  {
   "cell_type": "markdown",
   "id": "a8a35f85-c671-4f7f-a10e-86eb7be3f9fa",
   "metadata": {},
   "source": [
    "### Birmingham"
   ]
  },
  {
   "cell_type": "code",
   "execution_count": 90,
   "id": "15275597-a7ee-42e2-8b5f-38961992f009",
   "metadata": {},
   "outputs": [
    {
     "name": "stderr",
     "output_type": "stream",
     "text": [
      "/var/folders/2b/877nyyk109x4dd8hgx4ckwl40000gn/T/ipykernel_13639/2788206819.py:5: UserWarning: The `utils.config` function is deprecated and will be removed in a future release. Instead, use the `settings` module directly to configure a global setting's value. For example, `ox.settings.log_console=True`.\n",
      "  ox.config(use_cache=True, log_console=True)\n"
     ]
    },
    {
     "name": "stdout",
     "output_type": "stream",
     "text": [
      "       element_type     osmid                                          name  \\\n",
      "0               way  16966777                                           NaN   \n",
      "1               way  16966784                                           NaN   \n",
      "2               way  16966785                                           NaN   \n",
      "3               way  16966788                                           NaN   \n",
      "4               way  16966789                                           NaN   \n",
      "...             ...       ...                                           ...   \n",
      "256274     relation  15809922                                       Block A   \n",
      "256275     relation  15823526                                           NaN   \n",
      "256276     relation  16414329  Birmingham Settlement - 610 Community Centre   \n",
      "256277     relation  16542773                                           NaN   \n",
      "256278     relation  17785650                             2 Centenary Drive   \n",
      "\n",
      "                                                 geometry  \n",
      "0       POLYGON ((-1.82461 52.55549, -1.82450 52.55543...  \n",
      "1       POLYGON ((-1.82324 52.55438, -1.82301 52.55434...  \n",
      "2       POLYGON ((-1.82273 52.55403, -1.82264 52.55400...  \n",
      "3       POLYGON ((-1.82341 52.55414, -1.82338 52.55412...  \n",
      "4       POLYGON ((-1.82311 52.55396, -1.82302 52.55391...  \n",
      "...                                                   ...  \n",
      "256274  POLYGON ((-1.93083 52.48658, -1.93080 52.48673...  \n",
      "256275  POLYGON ((-1.88463 52.48027, -1.88471 52.48021...  \n",
      "256276  MULTIPOLYGON (((-1.88578 52.54762, -1.88548 52...  \n",
      "256277  POLYGON ((-1.87999 52.45025, -1.88014 52.45032...  \n",
      "256278  POLYGON ((-1.93801 52.50831, -1.93799 52.50832...  \n",
      "\n",
      "[256279 rows x 4 columns]\n"
     ]
    }
   ],
   "source": [
    "#Download Data for Birmingham\n",
    "place_name = 'Birmingham, United Kingdom'\n",
    "\n",
    "#Test new config\n",
    "ox.config(use_cache=True, log_console=True)\n",
    "\n",
    "buildings = ox.features_from_place(place_name, tags={'building': True})\n",
    "buildings = buildings[buildings.geometry.notnull()]\n",
    "building_footprints = buildings[buildings.geom_type.isin(['Polygon', 'MultiPolygon'])]\n",
    "\n",
    "for col in building_footprints.columns:\n",
    "    if building_footprints.apply(lambda x: isinstance(x, list)).any():\n",
    "        building_footprints = building_footprints[col].apply(lambda x: str(x) if isinstance(x, list) else x)\n",
    "\n",
    "building_footprints = building_footprints[['name', 'geometry']].reset_index()\n",
    "print(building_footprints)\n",
    "        \n",
    "# Save the combined GeoDataFrame to a geojson file\n",
    "building_footprints.to_file(\"data/osm_data/bham_buildings.geojson\", driver=\"GeoJSON\")"
   ]
  },
  {
   "attachments": {},
   "cell_type": "markdown",
   "id": "556d413d",
   "metadata": {},
   "source": [
    "### Extract Building Type Info from OSM - Commercial\n"
   ]
  },
  {
   "cell_type": "code",
   "execution_count": 91,
   "id": "cb070c17",
   "metadata": {},
   "outputs": [
    {
     "name": "stdout",
     "output_type": "stream",
     "text": [
      "     element_type     osmid                      name  \\\n",
      "0             way   4076571  Bromley Road Retail Park   \n",
      "1             way   4076587   Catford Delivery Office   \n",
      "2             way   5790535              Refuge House   \n",
      "3             way   5986754         One Canada Square   \n",
      "4             way   5987126                       NaN   \n",
      "...           ...       ...                       ...   \n",
      "5294     relation  13472609                Hyde House   \n",
      "5295     relation  13535999           Old Guy's House   \n",
      "5296     relation  15685271                       NaN   \n",
      "5297     relation  15761586               China Works   \n",
      "5298     relation  16030676           Camelford House   \n",
      "\n",
      "                                               geometry  \n",
      "0     POLYGON ((-0.02063 51.43669, -0.02047 51.43631...  \n",
      "1     POLYGON ((-0.02001 51.43859, -0.02004 51.43865...  \n",
      "2     POLYGON ((-0.07800 51.65301, -0.07777 51.65303...  \n",
      "3     POLYGON ((-0.02002 51.50477, -0.01996 51.50500...  \n",
      "4     POLYGON ((-0.02588 51.50520, -0.02596 51.50531...  \n",
      "...                                                 ...  \n",
      "5294  POLYGON ((-0.24791 51.58466, -0.24819 51.58463...  \n",
      "5295  POLYGON ((-0.08848 51.50427, -0.08855 51.50430...  \n",
      "5296  POLYGON ((0.04764 51.49269, 0.04763 51.49272, ...  \n",
      "5297  POLYGON ((-0.12087 51.49240, -0.12076 51.49252...  \n",
      "5298  POLYGON ((-0.12419 51.48808, -0.12421 51.48809...  \n",
      "\n",
      "[5299 rows x 4 columns]\n"
     ]
    }
   ],
   "source": [
    "#Download Data for 32 Boroughs (Exc. City of London)\n",
    "place_name = 'London, United Kingdom'\n",
    "\n",
    "commercial_buildings = ox.features_from_place(place_name, tags={'building': ['commercial']})\n",
    "\n",
    "commercial_buildings = commercial_buildings[commercial_buildings.geometry.notnull()]\n",
    "commercial_building_footprints = commercial_buildings[commercial_buildings.geom_type.isin(['Polygon', 'MultiPolygon'])]\n",
    "\n",
    "for col in commercial_building_footprints.columns:\n",
    "    if commercial_building_footprints.apply(lambda x: isinstance(x, list)).any():\n",
    "        commercial_building_footprints = commercial_building_footprints[col].apply(lambda x: str(x) if isinstance(x, list) else x)\n",
    "\n",
    "commercial_building_footprints = commercial_building_footprints[['name', 'geometry']].reset_index()\n",
    "print(commercial_building_footprints)\n",
    "        \n",
    "# Save the combined GeoDataFrame to a geojson file\n",
    "commercial_building_footprints.to_file(\"data/osm_data/boroughs_commercial_buildings.geojson\", driver=\"GeoJSON\")"
   ]
  },
  {
   "cell_type": "code",
   "execution_count": 92,
   "id": "f3b266ed",
   "metadata": {},
   "outputs": [],
   "source": [
    "#Add City of London\n",
    "place_name = 'City of London, England, United Kingdom'\n",
    "\n",
    "commercial_buildings_city = ox.features_from_place(place_name, tags={'building': ['commercial']})\n",
    "commercial_buildings_city = commercial_buildings_city[commercial_buildings_city.geometry.notnull()]\n",
    "commercial_building_footprints_city = commercial_buildings_city[commercial_buildings_city.geom_type.isin(['Polygon', 'MultiPolygon'])]\n",
    "\n",
    "for col in commercial_building_footprints_city.columns:\n",
    "    if commercial_building_footprints_city.apply(lambda x: isinstance(x, list)).any():\n",
    "        commercial_building_footprints_city = commercial_building_footprints_city[col].apply(lambda x: str(x) if isinstance(x, list) else x)\n",
    "\n",
    "commercial_building_footprints_city = commercial_building_footprints_city[['name', 'geometry']].reset_index()\n",
    "\n",
    "commercial_building_footprints_combined = pd.concat([commercial_building_footprints, commercial_building_footprints_city], ignore_index=True)\n",
    "        \n",
    "# Save the combined GeoDataFrame to a geojson file\n",
    "commercial_building_footprints_combined.to_file(\"data/osm_data/all_london_commercial_buildings.geojson\", driver=\"GeoJSON\")"
   ]
  },
  {
   "cell_type": "code",
   "execution_count": 93,
   "id": "de910870",
   "metadata": {},
   "outputs": [
    {
     "name": "stdout",
     "output_type": "stream",
     "text": [
      "    element_type       osmid                     name  \\\n",
      "0            way    17405658                      NaN   \n",
      "1            way    20002347  Dental Care Partnership   \n",
      "2            way    22763584            Station House   \n",
      "3            way    22763760                      NaN   \n",
      "4            way    22763952                      NaN   \n",
      "..           ...         ...                      ...   \n",
      "312          way  1259115143                      NaN   \n",
      "313          way  1259115144                      NaN   \n",
      "314          way  1259115145                      NaN   \n",
      "315     relation      333915      The Custard Factory   \n",
      "316     relation     7076030                Eagle Two   \n",
      "\n",
      "                                              geometry  \n",
      "0    POLYGON ((-1.82146 52.56186, -1.82179 52.56209...  \n",
      "1    POLYGON ((-1.82680 52.55679, -1.82680 52.55680...  \n",
      "2    POLYGON ((-1.82027 52.56533, -1.82036 52.56528...  \n",
      "3    POLYGON ((-1.81624 52.56247, -1.81633 52.56237...  \n",
      "4    POLYGON ((-1.82061 52.56543, -1.82042 52.56531...  \n",
      "..                                                 ...  \n",
      "312  POLYGON ((-1.82325 52.58782, -1.82327 52.58774...  \n",
      "313  POLYGON ((-1.82330 52.58783, -1.82336 52.58783...  \n",
      "314  POLYGON ((-1.82324 52.58774, -1.82321 52.58785...  \n",
      "315  POLYGON ((-1.88473 52.47478, -1.88489 52.47480...  \n",
      "316  POLYGON ((-1.76134 52.45196, -1.76146 52.45178...  \n",
      "\n",
      "[317 rows x 4 columns]\n"
     ]
    }
   ],
   "source": [
    "#Download Data for Birmingham\n",
    "place_name = 'Birmingham, United Kingdom'\n",
    "\n",
    "commercial_buildings = ox.features_from_place(place_name, tags={'building': ['commercial']})\n",
    "\n",
    "commercial_buildings = commercial_buildings[commercial_buildings.geometry.notnull()]\n",
    "commercial_building_footprints = commercial_buildings[commercial_buildings.geom_type.isin(['Polygon', 'MultiPolygon'])]\n",
    "\n",
    "for col in commercial_building_footprints.columns:\n",
    "    if commercial_building_footprints.apply(lambda x: isinstance(x, list)).any():\n",
    "        commercial_building_footprints = commercial_building_footprints[col].apply(lambda x: str(x) if isinstance(x, list) else x)\n",
    "\n",
    "commercial_building_footprints = commercial_building_footprints[['name', 'geometry']].reset_index()\n",
    "print(commercial_building_footprints)\n",
    "        \n",
    "# Save the combined GeoDataFrame to a geojson file\n",
    "commercial_building_footprints.to_file(\"data/osm_data/bham_commercial_buildings.geojson\", driver=\"GeoJSON\")"
   ]
  },
  {
   "attachments": {},
   "cell_type": "markdown",
   "id": "898f815c",
   "metadata": {},
   "source": [
    "### Extract Building Type Info from OSM - Office"
   ]
  },
  {
   "cell_type": "code",
   "execution_count": 94,
   "id": "66af46ca",
   "metadata": {},
   "outputs": [
    {
     "name": "stderr",
     "output_type": "stream",
     "text": [
      "/var/folders/2b/877nyyk109x4dd8hgx4ckwl40000gn/T/ipykernel_13639/4117539463.py:4: UserWarning: The `utils.config` function is deprecated and will be removed in a future release. Instead, use the `settings` module directly to configure a global setting's value. For example, `ox.settings.log_console=True`.\n",
      "  ox.config(use_cache=True, log_console=True)\n"
     ]
    },
    {
     "name": "stdout",
     "output_type": "stream",
     "text": [
      "     element_type     osmid                       name  \\\n",
      "0             way   4237383                        ITN   \n",
      "1             way   5251705                        NaN   \n",
      "2             way   5986805                    HSBC UK   \n",
      "3             way   5986920                       KPMG   \n",
      "4             way   5986929                   Barclays   \n",
      "...           ...       ...                        ...   \n",
      "1724     relation  12566775                        NaN   \n",
      "1725     relation  12581563                BBC Studios   \n",
      "1726     relation  14168517  The Featherstone Building   \n",
      "1727     relation  15690226                 The Hudson   \n",
      "1728     relation  16030675             Tintagel House   \n",
      "\n",
      "                                               geometry  \n",
      "0     POLYGON ((-0.11445 51.52304, -0.11478 51.52344...  \n",
      "1     POLYGON ((-0.23366 51.40761, -0.23281 51.40822...  \n",
      "2     POLYGON ((-0.01792 51.50522, -0.01794 51.50525...  \n",
      "3     POLYGON ((-0.01680 51.50508, -0.01663 51.50569...  \n",
      "4     POLYGON ((-0.01494 51.50486, -0.01493 51.50490...  \n",
      "...                                                 ...  \n",
      "1724  MULTIPOLYGON (((-0.19537 51.43412, -0.19557 51...  \n",
      "1725  POLYGON ((-0.22575 51.51111, -0.22567 51.51116...  \n",
      "1726  POLYGON ((-0.08883 51.52435, -0.08886 51.52452...  \n",
      "1727  POLYGON ((-0.12089 51.48630, -0.12133 51.48627...  \n",
      "1728  POLYGON ((-0.12360 51.48913, -0.12342 51.48911...  \n",
      "\n",
      "[1729 rows x 4 columns]\n"
     ]
    }
   ],
   "source": [
    "# Download Data for 32 Boroughs (Exc. City of London)\n",
    "place_name = 'London, United Kingdom'\n",
    "\n",
    "ox.config(use_cache=True, log_console=True)\n",
    "\n",
    "office_buildings = ox.features_from_place(place_name, tags={'building': ['office']})\n",
    "\n",
    "office_buildings = office_buildings[office_buildings.geometry.notnull()]\n",
    "office_building_footprints = office_buildings[office_buildings.geom_type.isin(['Polygon', 'MultiPolygon'])]\n",
    "\n",
    "for col in office_building_footprints.columns:\n",
    "    if office_building_footprints.apply(lambda x: isinstance(x, list)).any():\n",
    "        office_building_footprints[col] = office_building_footprints[col].apply(lambda x: str(x) if isinstance(x, list) else x)\n",
    "\n",
    "office_building_footprints = office_building_footprints[['name', 'geometry']].reset_index()\n",
    "print(office_building_footprints)\n",
    "        \n",
    "# Save the combined GeoDataFrame to a geojson file\n",
    "office_building_footprints.to_file(\"data/osm_data/boroughs_office_buildings.geojson\", driver=\"GeoJSON\")\n"
   ]
  },
  {
   "cell_type": "code",
   "execution_count": 95,
   "id": "30fb2ace",
   "metadata": {},
   "outputs": [],
   "source": [
    "#Add City of London\n",
    "place_name = 'City of London, England, United Kingdom'\n",
    "\n",
    "office_buildings_city = ox.features_from_place(place_name, tags={'building': ['office']})\n",
    "office_buildings_city = office_buildings_city[office_buildings_city.geometry.notnull()]\n",
    "office_building_footprints_city = office_buildings_city[office_buildings_city.geom_type.isin(['Polygon', 'MultiPolygon'])]\n",
    "\n",
    "for col in office_building_footprints_city.columns:\n",
    "    if office_building_footprints_city.apply(lambda x: isinstance(x, list)).any():\n",
    "        office_building_footprints_city = office_building_footprints_city[col].apply(lambda x: str(x) if isinstance(x, list) else x)\n",
    "\n",
    "office_building_footprints_city = office_building_footprints_city[['name', 'geometry']].reset_index()\n",
    "\n",
    "office_building_footprints_combined = pd.concat([office_building_footprints, office_building_footprints_city], ignore_index=True)\n",
    "        \n",
    "# Save the combined GeoDataFrame to a geojson file\n",
    "office_building_footprints_combined.to_file(\"data/osm_data/all_london_office_buildings.geojson\", driver=\"GeoJSON\")"
   ]
  },
  {
   "cell_type": "code",
   "execution_count": 96,
   "id": "e1a88696",
   "metadata": {},
   "outputs": [
    {
     "name": "stderr",
     "output_type": "stream",
     "text": [
      "/var/folders/2b/877nyyk109x4dd8hgx4ckwl40000gn/T/ipykernel_13639/2941556620.py:4: UserWarning: The `utils.config` function is deprecated and will be removed in a future release. Instead, use the `settings` module directly to configure a global setting's value. For example, `ox.settings.log_console=True`.\n",
      "  ox.config(use_cache=True, log_console=True)\n"
     ]
    },
    {
     "name": "stdout",
     "output_type": "stream",
     "text": [
      "    element_type     osmid                     name  \\\n",
      "0            way  22820818        Baskerville House   \n",
      "1            way  28292471     No. 1 Colmore Square   \n",
      "2            way  28425056         McLaren Building   \n",
      "3            way  28455010        Gazette Buildings   \n",
      "4            way  28514237                      NaN   \n",
      "..           ...       ...                      ...   \n",
      "190     relation   1298933           Fountain Court   \n",
      "191     relation   3417218     Eight Brindley Place   \n",
      "192     relation   3417219     Seven Brindley Place   \n",
      "193     relation   3417220       Ten Brindley Place   \n",
      "194     relation   4631334  Birmingham Royal Ballet   \n",
      "\n",
      "                                              geometry  \n",
      "0    POLYGON ((-1.90809 52.48018, -1.90735 52.48039...  \n",
      "1    POLYGON ((-1.89668 52.48235, -1.89675 52.48258...  \n",
      "2    POLYGON ((-1.89265 52.48192, -1.89247 52.48183...  \n",
      "3    POLYGON ((-1.89313 52.48261, -1.89339 52.48236...  \n",
      "4    POLYGON ((-1.90172 52.47568, -1.90125 52.47528...  \n",
      "..                                                 ...  \n",
      "190  POLYGON ((-1.89569 52.48439, -1.89483 52.48385...  \n",
      "191  POLYGON ((-1.91369 52.47690, -1.91353 52.47703...  \n",
      "192  POLYGON ((-1.91369 52.47690, -1.91374 52.47692...  \n",
      "193  POLYGON ((-1.91318 52.47666, -1.91301 52.47679...  \n",
      "194  POLYGON ((-1.89864 52.47415, -1.89868 52.47417...  \n",
      "\n",
      "[195 rows x 4 columns]\n"
     ]
    }
   ],
   "source": [
    "#Download Data for Birmingham\n",
    "place_name = 'Birmingham, United Kingdom'\n",
    "\n",
    "ox.config(use_cache=True, log_console=True)\n",
    "\n",
    "office_buildings = ox.features_from_place(place_name, tags={'building': ['office']})\n",
    "\n",
    "office_buildings = office_buildings[office_buildings.geometry.notnull()]\n",
    "office_building_footprints = office_buildings[office_buildings.geom_type.isin(['Polygon', 'MultiPolygon'])]\n",
    "\n",
    "for col in office_building_footprints.columns:\n",
    "    if office_building_footprints.apply(lambda x: isinstance(x, list)).any():\n",
    "        office_building_footprints[col] = office_building_footprints[col].apply(lambda x: str(x) if isinstance(x, list) else x)\n",
    "\n",
    "office_building_footprints = office_building_footprints[['name', 'geometry']].reset_index()\n",
    "print(office_building_footprints)\n",
    "        \n",
    "# Save the combined GeoDataFrame to a geojson file\n",
    "office_building_footprints.to_file(\"data/osm_data/bham_office_buildings.geojson\", driver=\"GeoJSON\")\n"
   ]
  },
  {
   "attachments": {},
   "cell_type": "markdown",
   "id": "db15e399",
   "metadata": {},
   "source": [
    "### Extract Building Type Info from OSM - Residential"
   ]
  },
  {
   "cell_type": "code",
   "execution_count": 97,
   "id": "984cc654",
   "metadata": {},
   "outputs": [
    {
     "name": "stderr",
     "output_type": "stream",
     "text": [
      "/var/folders/2b/877nyyk109x4dd8hgx4ckwl40000gn/T/ipykernel_13639/160667686.py:4: UserWarning: The `utils.config` function is deprecated and will be removed in a future release. Instead, use the `settings` module directly to configure a global setting's value. For example, `ox.settings.log_console=True`.\n",
      "  ox.config(use_cache=True, log_console=True)\n"
     ]
    },
    {
     "name": "stdout",
     "output_type": "stream",
     "text": [
      "      element_type     osmid            name  \\\n",
      "0              way   4948114    Kemble House   \n",
      "1              way   4948116  Kettleby House   \n",
      "2              way   4948118   Woolley House   \n",
      "3              way   5131193             NaN   \n",
      "4              way   5131194             NaN   \n",
      "...            ...       ...             ...   \n",
      "83799     relation  16389021     Birch House   \n",
      "83800     relation  16389022  Lansdell House   \n",
      "83801     relation  16847821             NaN   \n",
      "83802     relation  17193995             NaN   \n",
      "83803     relation  17729875             NaN   \n",
      "\n",
      "                                                geometry  \n",
      "0      POLYGON ((-0.10656 51.46576, -0.10645 51.46582...  \n",
      "1      POLYGON ((-0.10571 51.46618, -0.10559 51.46624...  \n",
      "2      POLYGON ((-0.10486 51.46659, -0.10473 51.46665...  \n",
      "3      POLYGON ((-0.19992 51.46981, -0.19992 51.46987...  \n",
      "4      POLYGON ((-0.19955 51.46940, -0.19955 51.46980...  \n",
      "...                                                  ...  \n",
      "83799  POLYGON ((-0.11482 51.45071, -0.11467 51.45072...  \n",
      "83800  POLYGON ((-0.11395 51.45046, -0.11398 51.45062...  \n",
      "83801  POLYGON ((-0.22846 51.48877, -0.22835 51.48882...  \n",
      "83802  POLYGON ((-0.06253 51.54154, -0.06251 51.54147...  \n",
      "83803  POLYGON ((0.17202 51.52897, 0.17193 51.52886, ...  \n",
      "\n",
      "[83804 rows x 4 columns]\n"
     ]
    }
   ],
   "source": [
    "# Download Data for 32 Boroughs (Exc. City of London)\n",
    "place_name = 'London, United Kingdom'\n",
    "\n",
    "ox.config(use_cache=True, log_console=True)\n",
    "\n",
    "residential_buildings = ox.features_from_place(place_name, tags={'building': ['residential']})\n",
    "\n",
    "residential_buildings = residential_buildings[residential_buildings.geometry.notnull()]\n",
    "residential_building_footprints = residential_buildings[residential_buildings.geom_type.isin(['Polygon', 'MultiPolygon'])]\n",
    "\n",
    "for col in residential_building_footprints.columns:\n",
    "    if residential_building_footprints.apply(lambda x: isinstance(x, list)).any():\n",
    "        residential_building_footprints[col] = residential_building_footprints[col].apply(lambda x: str(x) if isinstance(x, list) else x)\n",
    "\n",
    "residential_building_footprints = residential_building_footprints[['name', 'geometry']].reset_index()\n",
    "print(residential_building_footprints)\n",
    "        \n",
    "# Save the combined GeoDataFrame to a geojson file\n",
    "residential_building_footprints.to_file(\"data/osm_data/boroughs_residential_buildings.geojson\", driver=\"GeoJSON\")\n"
   ]
  },
  {
   "cell_type": "code",
   "execution_count": 98,
   "id": "3e4ddf58",
   "metadata": {},
   "outputs": [],
   "source": [
    "#Add City of London\n",
    "place_name = 'City of London, England, United Kingdom'\n",
    "\n",
    "residential_buildings_city = ox.features_from_place(place_name, tags={'building': ['residential']})\n",
    "residential_buildings_city = residential_buildings_city[residential_buildings_city.geometry.notnull()]\n",
    "residential_building_footprints_city = residential_buildings_city[residential_buildings_city.geom_type.isin(['Polygon', 'MultiPolygon'])]\n",
    "\n",
    "for col in residential_building_footprints_city.columns:\n",
    "    if residential_building_footprints_city.apply(lambda x: isinstance(x, list)).any():\n",
    "        residential_building_footprints_city = residential_building_footprints_city[col].apply(lambda x: str(x) if isinstance(x, list) else x)\n",
    "\n",
    "residential_building_footprints_city = residential_building_footprints_city[['name', 'geometry']].reset_index()\n",
    "\n",
    "residential_building_footprints_combined = pd.concat([residential_building_footprints, residential_building_footprints_city], ignore_index=True)\n",
    "        \n",
    "# Save the combined GeoDataFrame to a geojson file\n",
    "residential_building_footprints_combined.to_file(\"data/osm_data/all_london_residential_buildings.geojson\", driver=\"GeoJSON\")"
   ]
  },
  {
   "cell_type": "code",
   "execution_count": 99,
   "id": "78c76928",
   "metadata": {},
   "outputs": [
    {
     "name": "stderr",
     "output_type": "stream",
     "text": [
      "/var/folders/2b/877nyyk109x4dd8hgx4ckwl40000gn/T/ipykernel_13639/2012114761.py:4: UserWarning: The `utils.config` function is deprecated and will be removed in a future release. Instead, use the `settings` module directly to configure a global setting's value. For example, `ox.settings.log_console=True`.\n",
      "  ox.config(use_cache=True, log_console=True)\n"
     ]
    },
    {
     "name": "stdout",
     "output_type": "stream",
     "text": [
      "       element_type     osmid               name  \\\n",
      "0               way  16966777                NaN   \n",
      "1               way  16966784                NaN   \n",
      "2               way  16966785                NaN   \n",
      "3               way  16966788                NaN   \n",
      "4               way  16966789                NaN   \n",
      "...             ...       ...                ...   \n",
      "189377     relation  11382596      Bentley House   \n",
      "189378     relation  12197160                NaN   \n",
      "189379     relation  15809922            Block A   \n",
      "189380     relation  16542773                NaN   \n",
      "189381     relation  17785650  2 Centenary Drive   \n",
      "\n",
      "                                                 geometry  \n",
      "0       POLYGON ((-1.82461 52.55549, -1.82450 52.55543...  \n",
      "1       POLYGON ((-1.82324 52.55438, -1.82301 52.55434...  \n",
      "2       POLYGON ((-1.82273 52.55403, -1.82264 52.55400...  \n",
      "3       POLYGON ((-1.82341 52.55414, -1.82338 52.55412...  \n",
      "4       POLYGON ((-1.82311 52.55396, -1.82302 52.55391...  \n",
      "...                                                   ...  \n",
      "189377  POLYGON ((-1.89049 52.48919, -1.89057 52.48909...  \n",
      "189378  POLYGON ((-1.85970 52.54240, -1.85965 52.54241...  \n",
      "189379  POLYGON ((-1.93083 52.48658, -1.93080 52.48673...  \n",
      "189380  POLYGON ((-1.87999 52.45025, -1.88014 52.45032...  \n",
      "189381  POLYGON ((-1.93801 52.50831, -1.93799 52.50832...  \n",
      "\n",
      "[189382 rows x 4 columns]\n"
     ]
    }
   ],
   "source": [
    "#Download Data for Birmingham\n",
    "place_name = 'Birmingham, United Kingdom'\n",
    "\n",
    "ox.config(use_cache=True, log_console=True)\n",
    "\n",
    "residential_buildings = ox.features_from_place(place_name, tags={'building': ['residential']})\n",
    "\n",
    "residential_buildings = residential_buildings[residential_buildings.geometry.notnull()]\n",
    "residential_building_footprints = residential_buildings[residential_buildings.geom_type.isin(['Polygon', 'MultiPolygon'])]\n",
    "\n",
    "for col in residential_building_footprints.columns:\n",
    "    if residential_building_footprints.apply(lambda x: isinstance(x, list)).any():\n",
    "        residential_building_footprints[col] = residential_building_footprints[col].apply(lambda x: str(x) if isinstance(x, list) else x)\n",
    "\n",
    "residential_building_footprints = residential_building_footprints[['name', 'geometry']].reset_index()\n",
    "print(residential_building_footprints)\n",
    "        \n",
    "# Save the combined GeoDataFrame to a geojson file\n",
    "residential_building_footprints.to_file(\"data/osm_data/bham_residential_buildings.geojson\", driver=\"GeoJSON\")\n"
   ]
  },
  {
   "attachments": {},
   "cell_type": "markdown",
   "id": "05fa18d4",
   "metadata": {},
   "source": [
    "### Extract Building Type Info from OSM - Retail"
   ]
  },
  {
   "cell_type": "code",
   "execution_count": 100,
   "id": "f6faba86",
   "metadata": {},
   "outputs": [
    {
     "name": "stderr",
     "output_type": "stream",
     "text": [
      "/var/folders/2b/877nyyk109x4dd8hgx4ckwl40000gn/T/ipykernel_13639/110674602.py:4: UserWarning: The `utils.config` function is deprecated and will be removed in a future release. Instead, use the `settings` module directly to configure a global setting's value. For example, `ox.settings.log_console=True`.\n",
      "  ox.config(use_cache=True, log_console=True)\n"
     ]
    },
    {
     "name": "stdout",
     "output_type": "stream",
     "text": [
      "      element_type     osmid                                            name  \\\n",
      "0              way   4270351                                             NaN   \n",
      "1              way   4425414                                             NaN   \n",
      "2              way   4425469                                             NaN   \n",
      "3              way   4770296  Kingston Rowing Club / Tiffin School Boat Club   \n",
      "4              way   4775619                              St Richard's Court   \n",
      "...            ...       ...                                             ...   \n",
      "11690     relation  14208162                   Gulf Ickenham Service Station   \n",
      "11691     relation  15536955                                             NaN   \n",
      "11692     relation  16095623                                         Crispin   \n",
      "11693     relation  17367661                                             NaN   \n",
      "11694     relation  17745415             Ilford Tesco Superstore Barkingside   \n",
      "\n",
      "                                                geometry  \n",
      "0      POLYGON ((-0.03794 51.63273, -0.03778 51.63280...  \n",
      "1      POLYGON ((-0.21897 51.57513, -0.21821 51.57486...  \n",
      "2      POLYGON ((-0.23039 51.57118, -0.22974 51.57071...  \n",
      "3      POLYGON ((-0.30581 51.41876, -0.30566 51.41905...  \n",
      "4      POLYGON ((-0.32066 51.43665, -0.32049 51.43647...  \n",
      "...                                                  ...  \n",
      "11690  POLYGON ((-0.43504 51.57121, -0.43488 51.57108...  \n",
      "11691  POLYGON ((-0.10484 51.56441, -0.10476 51.56444...  \n",
      "11692  POLYGON ((-0.07614 51.51831, -0.07610 51.51832...  \n",
      "11693  POLYGON ((-0.26037 51.50853, -0.26040 51.50853...  \n",
      "11694  POLYGON ((0.08159 51.58641, 0.08153 51.58651, ...  \n",
      "\n",
      "[11695 rows x 4 columns]\n"
     ]
    }
   ],
   "source": [
    "# Download Data for 32 Boroughs (Exc. City of London)\n",
    "place_name = 'London, United Kingdom'\n",
    "\n",
    "ox.config(use_cache=True, log_console=True)\n",
    "\n",
    "retail_buildings = ox.features_from_place(place_name, tags={'building': ['retail']})\n",
    "\n",
    "retail_buildings = retail_buildings[retail_buildings.geometry.notnull()]\n",
    "retail_building_footprints = retail_buildings[retail_buildings.geom_type.isin(['Polygon', 'MultiPolygon'])]\n",
    "\n",
    "for col in retail_building_footprints.columns:\n",
    "    if retail_building_footprints.apply(lambda x: isinstance(x, list)).any():\n",
    "        retail_building_footprints[col] = retail_building_footprints[col].apply(lambda x: str(x) if isinstance(x, list) else x)\n",
    "\n",
    "retail_building_footprints = retail_building_footprints[['name', 'geometry']].reset_index()\n",
    "print(retail_building_footprints)\n",
    "        \n",
    "# Save the combined GeoDataFrame to a geojson file\n",
    "retail_building_footprints.to_file(\"data/osm_data/boroughs_retail_buildings.geojson\", driver=\"GeoJSON\")\n"
   ]
  },
  {
   "cell_type": "code",
   "execution_count": 101,
   "id": "25835e9e",
   "metadata": {},
   "outputs": [],
   "source": [
    "#Add City of London\n",
    "place_name = 'City of London, England, United Kingdom'\n",
    "\n",
    "retail_buildings_city = ox.features_from_place(place_name, tags={'building': ['retail']})\n",
    "retail_buildings_city = retail_buildings_city[retail_buildings_city.geometry.notnull()]\n",
    "retail_building_footprints_city = retail_buildings_city[retail_buildings_city.geom_type.isin(['Polygon', 'MultiPolygon'])]\n",
    "\n",
    "for col in retail_building_footprints_city.columns:\n",
    "    if retail_building_footprints_city.apply(lambda x: isinstance(x, list)).any():\n",
    "        retail_building_footprints_city = retail_building_footprints_city[col].apply(lambda x: str(x) if isinstance(x, list) else x)\n",
    "\n",
    "retail_building_footprints_city = retail_building_footprints_city[['name', 'geometry']].reset_index()\n",
    "\n",
    "retail_building_footprints_combined = pd.concat([retail_building_footprints, retail_building_footprints_city], ignore_index=True)\n",
    "        \n",
    "# Save the combined GeoDataFrame to a geojson file\n",
    "retail_building_footprints_combined.to_file(\"data/osm_data/all_london_retail_buildings.geojson\", driver=\"GeoJSON\")"
   ]
  },
  {
   "cell_type": "code",
   "execution_count": null,
   "id": "a11b84f6",
   "metadata": {},
   "outputs": [
    {
     "name": "stderr",
     "output_type": "stream",
     "text": [
      "/var/folders/2b/877nyyk109x4dd8hgx4ckwl40000gn/T/ipykernel_13639/291704794.py:4: UserWarning: The `utils.config` function is deprecated and will be removed in a future release. Instead, use the `settings` module directly to configure a global setting's value. For example, `ox.settings.log_console=True`.\n",
      "  ox.config(use_cache=True, log_console=True)\n"
     ]
    }
   ],
   "source": [
    "#Download Data for Birmingham\n",
    "place_name = 'Birmingham, United Kingdom'\n",
    "\n",
    "ox.config(use_cache=True, log_console=True)\n",
    "\n",
    "retail_buildings = ox.features_from_place(place_name, tags={'building': ['retail']})\n",
    "\n",
    "retail_buildings = retail_buildings[retail_buildings.geometry.notnull()]\n",
    "retail_building_footprints = retail_buildings[retail_buildings.geom_type.isin(['Polygon', 'MultiPolygon'])]\n",
    "\n",
    "for col in retail_building_footprints.columns:\n",
    "    if retail_building_footprints.apply(lambda x: isinstance(x, list)).any():\n",
    "        retail_building_footprints[col] = retail_building_footprints[col].apply(lambda x: str(x) if isinstance(x, list) else x)\n",
    "\n",
    "retail_building_footprints = retail_building_footprints[['name', 'geometry']].reset_index()\n",
    "print(retail_building_footprints)\n",
    "        \n",
    "# Save the combined GeoDataFrame to a geojson file\n",
    "retail_building_footprints.to_file(\"data/osm_data/bham_retail_buildings.geojson\", driver=\"GeoJSON\")\n"
   ]
  }
 ],
 "metadata": {
  "kernelspec": {
   "display_name": "urbsim",
   "language": "python",
   "name": "urbsim"
  },
  "language_info": {
   "codemirror_mode": {
    "name": "ipython",
    "version": 3
   },
   "file_extension": ".py",
   "mimetype": "text/x-python",
   "name": "python",
   "nbconvert_exporter": "python",
   "pygments_lexer": "ipython3",
   "version": "3.11.7"
  }
 },
 "nbformat": 4,
 "nbformat_minor": 5
}
