{
 "cells": [
  {
   "cell_type": "markdown",
   "id": "f40320e1-1b46-448e-bcb9-6b723059597e",
   "metadata": {},
   "source": [
    "# Dissertation Data Querying\n",
    "### Gavin Rolls\n",
    "\n",
    "This script contains the queries I used to save OSM and Overture data locally for Greater London and Birmingham. Because it's easier to grab the data I need from my desktop as opposed to running these queries every time I need data, I'm leaving these queries here but only intend to use them once"
   ]
  },
  {
   "cell_type": "markdown",
   "id": "d0e343dc-a32f-422e-aa4b-c753c2b2f2fa",
   "metadata": {},
   "source": [
    "## Library Imports & Database Configuration"
   ]
  },
  {
   "cell_type": "code",
   "execution_count": 14,
   "id": "8916ac88-5d66-44aa-aca2-d928861f85e6",
   "metadata": {},
   "outputs": [],
   "source": [
    "#Library Imports - using DuckDB for Overture Import\n",
    "\n",
    "#Database\n",
    "import duckdb\n",
    "\n",
    "#Basics\n",
    "import pandas as pd\n",
    "import geopandas as gpd\n",
    "from geopy.geocoders import Nominatim\n",
    "\n",
    "#OpenStreetMap\n",
    "import osmnx as ox"
   ]
  },
  {
   "cell_type": "code",
   "execution_count": 15,
   "id": "92c4f543-73c7-4cd4-a414-7867417e19d1",
   "metadata": {},
   "outputs": [
    {
     "name": "stdout",
     "output_type": "stream",
     "text": [
      "Note: you may need to restart the kernel to use updated packages.\n",
      "Note: you may need to restart the kernel to use updated packages.\n",
      "There's a new jupysql version available (0.10.11), you're running 0.10.10. To upgrade: pip install jupysql --upgrade\n",
      "Deploy Shiny apps for free on Ploomber Cloud! Learn more: https://ploomber.io/s/signup\n"
     ]
    }
   ],
   "source": [
    "#Config SQL\n",
    "%pip install ipython-sql duckdb duckdb-engine jupysql --quiet\n",
    "%pip install --upgrade grpcio --quiet\n",
    "%load_ext sql"
   ]
  },
  {
   "cell_type": "code",
   "execution_count": 16,
   "id": "e73d3f61-3984-4551-b337-f40a75cf4b7f",
   "metadata": {},
   "outputs": [],
   "source": [
    "%config SqlMagic.autopandas = True\n",
    "%config SqlMagic.feedback = False\n",
    "%config SqlMagic.displaycon = False\n",
    "%sql duckdb:///:memory:"
   ]
  },
  {
   "cell_type": "code",
   "execution_count": 17,
   "id": "d7370f0f-7280-4b4b-a385-408918b69716",
   "metadata": {},
   "outputs": [
    {
     "data": {
      "text/html": [
       "<div>\n",
       "<style scoped>\n",
       "    .dataframe tbody tr th:only-of-type {\n",
       "        vertical-align: middle;\n",
       "    }\n",
       "\n",
       "    .dataframe tbody tr th {\n",
       "        vertical-align: top;\n",
       "    }\n",
       "\n",
       "    .dataframe thead th {\n",
       "        text-align: right;\n",
       "    }\n",
       "</style>\n",
       "<table border=\"1\" class=\"dataframe\">\n",
       "  <thead>\n",
       "    <tr style=\"text-align: right;\">\n",
       "      <th></th>\n",
       "      <th>Success</th>\n",
       "    </tr>\n",
       "  </thead>\n",
       "  <tbody>\n",
       "  </tbody>\n",
       "</table>\n",
       "</div>"
      ],
      "text/plain": [
       "Empty DataFrame\n",
       "Columns: [Success]\n",
       "Index: []"
      ]
     },
     "execution_count": 17,
     "metadata": {},
     "output_type": "execute_result"
    }
   ],
   "source": [
    "%%sql      \n",
    "INSTALL httpfs;\n",
    "\n",
    "LOAD httpfs;\n",
    "\n",
    "INSTALL spatial;\n",
    "\n",
    "LOAD spatial;\n",
    "\n",
    "SET s3_region='us-west-2';"
   ]
  },
  {
   "cell_type": "markdown",
   "id": "dd0a2533-d86b-4789-8cad-9ef3f325cdfe",
   "metadata": {},
   "source": [
    "## Get Bounding Boxes"
   ]
  },
  {
   "cell_type": "code",
   "execution_count": 25,
   "id": "d1bafd24-e28e-4217-8871-fac8566d8e76",
   "metadata": {},
   "outputs": [
    {
     "name": "stdout",
     "output_type": "stream",
     "text": [
      "London Bounding Box Coordinates:\n",
      "Min Longitude: -0.5103751\n",
      "Min Latitude: 51.2867601\n",
      "Max Longitude: 0.3340155\n",
      "Max Latitude: 51.6918741\n",
      "\n",
      "Birmingham Bounding Box Coordinates:\n",
      "Min Longitude: -2.0336486\n",
      "Min Latitude: 52.381053\n",
      "Max Longitude: -1.7288417\n",
      "Max Latitude: 52.6087058\n"
     ]
    }
   ],
   "source": [
    "#Get London Bounding Box\n",
    "\n",
    "# Initialize the geolocator\n",
    "geolocator = Nominatim(user_agent=\"geoapi\")\n",
    "\n",
    "# Get location data for London\n",
    "location = geolocator.geocode(\"London\")\n",
    "\n",
    "# Get the bounding box\n",
    "bounding_box_london = location.raw['boundingbox']\n",
    "\n",
    "min_lat_london, max_lat_london = float(bounding_box_london[0]), float(bounding_box_london[1])\n",
    "min_lon_london, max_lon_london = float(bounding_box_london[2]), float(bounding_box_london[3])\n",
    "\n",
    "print(\"London Bounding Box Coordinates:\")\n",
    "print(f\"Min Longitude: {min_lon_london}\")\n",
    "print(f\"Min Latitude: {min_lat_london}\")\n",
    "print(f\"Max Longitude: {max_lon_london}\")\n",
    "print(f\"Max Latitude: {max_lat_london}\")\n",
    "print()\n",
    "\n",
    "# Get location data for Birmingham\n",
    "location_birmingham = geolocator.geocode(\"Birmingham\")\n",
    "\n",
    "# Get the bounding box\n",
    "bounding_box_birmingham = location_birmingham.raw['boundingbox']\n",
    "\n",
    "# Convert bounding box to coordinates for Birmingham\n",
    "min_lat_birmingham, max_lat_birmingham = float(bounding_box_birmingham[0]), float(bounding_box_birmingham[1])\n",
    "min_lon_birmingham, max_lon_birmingham = float(bounding_box_birmingham[2]), float(bounding_box_birmingham[3])\n",
    "\n",
    "print(\"Birmingham Bounding Box Coordinates:\")\n",
    "print(f\"Min Longitude: {min_lon_birmingham}\")\n",
    "print(f\"Min Latitude: {min_lat_birmingham}\")\n",
    "print(f\"Max Longitude: {max_lon_birmingham}\")\n",
    "print(f\"Max Latitude: {max_lat_birmingham}\")\n"
   ]
  },
  {
   "cell_type": "markdown",
   "id": "94ab69cb-d6d6-4451-90e4-6ac98756bb45",
   "metadata": {},
   "source": [
    "## Download POIs - Overture"
   ]
  },
  {
   "cell_type": "markdown",
   "id": "1832db6b-299a-4f13-86f3-e425aa8015b2",
   "metadata": {},
   "source": [
    "### London"
   ]
  },
  {
   "cell_type": "code",
   "execution_count": 36,
   "id": "0f7e5efe-5a59-4887-8606-cff129c94aea",
   "metadata": {},
   "outputs": [
    {
     "data": {
      "application/vnd.jupyter.widget-view+json": {
       "model_id": "1c15edd3b64c427b89107bdaee113704",
       "version_major": 2,
       "version_minor": 0
      },
      "text/plain": [
       "FloatProgress(value=0.0, layout=Layout(width='auto'), style=ProgressStyle(bar_color='black'))"
      ]
     },
     "metadata": {},
     "output_type": "display_data"
    },
    {
     "data": {
      "text/html": [
       "<div>\n",
       "<style scoped>\n",
       "    .dataframe tbody tr th:only-of-type {\n",
       "        vertical-align: middle;\n",
       "    }\n",
       "\n",
       "    .dataframe tbody tr th {\n",
       "        vertical-align: top;\n",
       "    }\n",
       "\n",
       "    .dataframe thead th {\n",
       "        text-align: right;\n",
       "    }\n",
       "</style>\n",
       "<table border=\"1\" class=\"dataframe\">\n",
       "  <thead>\n",
       "    <tr style=\"text-align: right;\">\n",
       "      <th></th>\n",
       "      <th>Success</th>\n",
       "    </tr>\n",
       "  </thead>\n",
       "  <tbody>\n",
       "  </tbody>\n",
       "</table>\n",
       "</div>"
      ],
      "text/plain": [
       "Empty DataFrame\n",
       "Columns: [Success]\n",
       "Index: []"
      ]
     },
     "execution_count": 36,
     "metadata": {},
     "output_type": "execute_result"
    }
   ],
   "source": [
    "%%sql\n",
    "\n",
    "COPY (\n",
    "    SELECT\n",
    "        names.primary AS name,\n",
    "        categories.main as category,\n",
    "        ROUND(confidence,2) as confidence,\n",
    "        ST_GeomFromWKB(geometry) as geometry\n",
    "FROM read_parquet('s3://overturemaps-us-west-2/release/2024-05-16-beta.0/theme=places/*/*')\n",
    "WHERE\n",
    "    bbox.xmin BETWEEN -0.5103751 AND 0.3340155 AND\n",
    "    bbox.ymin BETWEEN 51.2867601 AND 51.6918741\n",
    ") TO 'data/overture_data/london_places.geojson' WITH (FORMAT GDAL, DRIVER 'GeoJSON', SRS 'EPSG:4326');"
   ]
  },
  {
   "cell_type": "markdown",
   "id": "81c9c0f7-f56a-470f-8237-ef3fc713ec9b",
   "metadata": {},
   "source": [
    "### Birmingham"
   ]
  },
  {
   "cell_type": "code",
   "execution_count": 37,
   "id": "7c410737-e887-4c6d-ab1b-55a8ca6fe68b",
   "metadata": {},
   "outputs": [
    {
     "data": {
      "application/vnd.jupyter.widget-view+json": {
       "model_id": "e670ebaaacf44a5794ab1b664f976f5d",
       "version_major": 2,
       "version_minor": 0
      },
      "text/plain": [
       "FloatProgress(value=0.0, layout=Layout(width='auto'), style=ProgressStyle(bar_color='black'))"
      ]
     },
     "metadata": {},
     "output_type": "display_data"
    },
    {
     "data": {
      "text/html": [
       "<div>\n",
       "<style scoped>\n",
       "    .dataframe tbody tr th:only-of-type {\n",
       "        vertical-align: middle;\n",
       "    }\n",
       "\n",
       "    .dataframe tbody tr th {\n",
       "        vertical-align: top;\n",
       "    }\n",
       "\n",
       "    .dataframe thead th {\n",
       "        text-align: right;\n",
       "    }\n",
       "</style>\n",
       "<table border=\"1\" class=\"dataframe\">\n",
       "  <thead>\n",
       "    <tr style=\"text-align: right;\">\n",
       "      <th></th>\n",
       "      <th>Success</th>\n",
       "    </tr>\n",
       "  </thead>\n",
       "  <tbody>\n",
       "  </tbody>\n",
       "</table>\n",
       "</div>"
      ],
      "text/plain": [
       "Empty DataFrame\n",
       "Columns: [Success]\n",
       "Index: []"
      ]
     },
     "execution_count": 37,
     "metadata": {},
     "output_type": "execute_result"
    }
   ],
   "source": [
    "%%sql\n",
    "\n",
    "COPY (\n",
    "    SELECT\n",
    "        names.primary AS name,\n",
    "        categories.main as category,\n",
    "        ROUND(confidence,2) as confidence,\n",
    "        ST_GeomFromWKB(geometry) as geometry\n",
    "FROM read_parquet('s3://overturemaps-us-west-2/release/2024-05-16-beta.0/theme=places/*/*')\n",
    "WHERE\n",
    "    bbox.xmin BETWEEN -2.0336486 AND -1.7288417 AND\n",
    "    bbox.ymin BETWEEN 52.381053 AND 52.6087058\n",
    ") TO 'data/overture_data/bham_places.geojson' WITH (FORMAT GDAL, DRIVER 'GeoJSON', SRS 'EPSG:4326');"
   ]
  },
  {
   "cell_type": "markdown",
   "id": "0a314b99-bb5d-411c-92ac-ff0a4e423bde",
   "metadata": {},
   "source": [
    "### Overture Download Stats"
   ]
  },
  {
   "cell_type": "code",
   "execution_count": null,
   "id": "c78e7801-956e-4749-bacb-1b18d64161fe",
   "metadata": {},
   "outputs": [],
   "source": [
    "#Basic overview stats of London Data - Using the locally saved files here\n",
    "london_places = gpd.read_file('data/overture_data/london_places.geojson')\n",
    "bham_places = gpd.read_file('data/overture_data/bham_places.geojson')\n",
    "\n",
    "#Count of Features\n",
    "print(\"London POI Count: \" + str(london_places.shape[0]))\n",
    "print(\"Birmingham POI Count: \" + str(bham_places.shape[0]))"
   ]
  },
  {
   "cell_type": "markdown",
   "id": "fc856d4e-6481-4606-8ef6-815c76cdd782",
   "metadata": {},
   "source": [
    "## Download Buildings - OSM"
   ]
  },
  {
   "cell_type": "markdown",
   "id": "4d645600-1a7b-42e9-9722-e1de2555a5aa",
   "metadata": {},
   "source": [
    "### London"
   ]
  },
  {
   "cell_type": "code",
   "execution_count": null,
   "id": "23c3074c-c669-4d93-8b39-3ed2463151ed",
   "metadata": {},
   "outputs": [],
   "source": [
    "#Download Data for 32 Boroughs (Exc. City of London)\n",
    "place_name = 'London, United Kingdom'\n",
    "\n",
    "#Test new config\n",
    "ox.config(use_cache=True, log_console=True)\n",
    "\n",
    "buildings = ox.features_from_place(place_name, tags={'building': True})\n",
    "buildings = buildings[buildings.geometry.notnull()]\n",
    "building_footprints = buildings[buildings.geom_type.isin(['Polygon', 'MultiPolygon'])]\n",
    "\n",
    "for col in building_footprints.columns:\n",
    "    if building_footprints.apply(lambda x: isinstance(x, list)).any():\n",
    "        building_footprints = building_footprints[col].apply(lambda x: str(x) if isinstance(x, list) else x)\n",
    "\n",
    "building_footprints = building_footprints[['name', 'geometry']].reset_index()\n",
    "print(building_footprints)\n",
    "        \n",
    "# Save the combined GeoDataFrame to a geojson file\n",
    "building_footprints.to_file(\"data/osm_data/boroughs_buildings.geojson\", driver=\"GeoJSON\")"
   ]
  },
  {
   "cell_type": "markdown",
   "id": "4611fa83-171c-4db9-81a5-3301afc3b00b",
   "metadata": {},
   "source": [
    "### City of London"
   ]
  },
  {
   "cell_type": "code",
   "execution_count": null,
   "id": "f26abc27-b641-4329-a659-7245d42d09d4",
   "metadata": {},
   "outputs": [],
   "source": [
    "#Add City of London\n",
    "place_name = 'City of London, England, United Kingdom'\n",
    "\n",
    "buildings_city = ox.features_from_place(place_name, tags={'building': True})\n",
    "buildings_city = buildings_city[buildings_city.geometry.notnull()]\n",
    "building_footprints_city = buildings_city[buildings_city.geom_type.isin(['Polygon', 'MultiPolygon'])]\n",
    "\n",
    "for col in building_footprints_city.columns:\n",
    "    if building_footprints_city.apply(lambda x: isinstance(x, list)).any():\n",
    "        building_footprints_city = building_footprints_city[col].apply(lambda x: str(x) if isinstance(x, list) else x)\n",
    "\n",
    "building_footprints_city = building_footprints_city[['name', 'geometry']].reset_index()\n",
    "\n",
    "building_footprints_combined = pd.concat([building_footprints, building_footprints_city], ignore_index=True)\n",
    "        \n",
    "# Save the combined GeoDataFrame to a geojson file\n",
    "building_footprints_combined.to_file(\"data/osm_data/all_london_buildings.geojson\", driver=\"GeoJSON\")"
   ]
  },
  {
   "cell_type": "markdown",
   "id": "a8a35f85-c671-4f7f-a10e-86eb7be3f9fa",
   "metadata": {},
   "source": [
    "### Birmingham"
   ]
  },
  {
   "cell_type": "code",
   "execution_count": null,
   "id": "15275597-a7ee-42e2-8b5f-38961992f009",
   "metadata": {},
   "outputs": [],
   "source": [
    "#Download Data for Birmingham\n",
    "place_name = 'Birmingham, United Kingdom'\n",
    "\n",
    "#Test new config\n",
    "ox.config(use_cache=True, log_console=True)\n",
    "\n",
    "buildings = ox.features_from_place(place_name, tags={'building': True})\n",
    "buildings = buildings[buildings.geometry.notnull()]\n",
    "building_footprints = buildings[buildings.geom_type.isin(['Polygon', 'MultiPolygon'])]\n",
    "\n",
    "for col in building_footprints.columns:\n",
    "    if building_footprints.apply(lambda x: isinstance(x, list)).any():\n",
    "        building_footprints = building_footprints[col].apply(lambda x: str(x) if isinstance(x, list) else x)\n",
    "\n",
    "building_footprints = building_footprints[['name', 'geometry']].reset_index()\n",
    "print(building_footprints)\n",
    "        \n",
    "# Save the combined GeoDataFrame to a geojson file\n",
    "building_footprints.to_file(\"data/osm_data/bham_buildings.geojson\", driver=\"GeoJSON\")"
   ]
  },
  {
   "attachments": {},
   "cell_type": "markdown",
   "id": "556d413d",
   "metadata": {},
   "source": [
    "### Extract Building Type Info from OSM - Commercial\n"
   ]
  },
  {
   "cell_type": "code",
   "execution_count": null,
   "id": "cb070c17",
   "metadata": {},
   "outputs": [],
   "source": [
    "#Download Data for 32 Boroughs (Exc. City of London)\n",
    "place_name = 'London, United Kingdom'\n",
    "\n",
    "commercial_buildings = ox.features_from_place(place_name, tags={'building': ['commercial']})\n",
    "\n",
    "commercial_buildings = commercial_buildings[commercial_buildings.geometry.notnull()]\n",
    "commercial_building_footprints = commercial_buildings[commercial_buildings.geom_type.isin(['Polygon', 'MultiPolygon'])]\n",
    "\n",
    "for col in commercial_building_footprints.columns:\n",
    "    if commercial_building_footprints.apply(lambda x: isinstance(x, list)).any():\n",
    "        commercial_building_footprints = commercial_building_footprints[col].apply(lambda x: str(x) if isinstance(x, list) else x)\n",
    "\n",
    "commercial_building_footprints = commercial_building_footprints[['name', 'geometry']].reset_index()\n",
    "print(commercial_building_footprints)\n",
    "        \n",
    "# Save the combined GeoDataFrame to a geojson file\n",
    "commercial_building_footprints.to_file(\"data/osm_data/boroughs_commercial_buildings.geojson\", driver=\"GeoJSON\")"
   ]
  },
  {
   "cell_type": "code",
   "execution_count": null,
   "id": "f3b266ed",
   "metadata": {},
   "outputs": [],
   "source": [
    "#Add City of London\n",
    "place_name = 'City of London, England, United Kingdom'\n",
    "\n",
    "commercial_buildings_city = ox.features_from_place(place_name, tags={'building': ['commercial']})\n",
    "commercial_buildings_city = commercial_buildings_city[commercial_buildings_city.geometry.notnull()]\n",
    "commercial_building_footprints_city = commercial_buildings_city[commercial_buildings_city.geom_type.isin(['Polygon', 'MultiPolygon'])]\n",
    "\n",
    "for col in commercial_building_footprints_city.columns:\n",
    "    if commercial_building_footprints_city.apply(lambda x: isinstance(x, list)).any():\n",
    "        commercial_building_footprints_city = commercial_building_footprints_city[col].apply(lambda x: str(x) if isinstance(x, list) else x)\n",
    "\n",
    "commercial_building_footprints_city = commercial_building_footprints_city[['name', 'geometry']].reset_index()\n",
    "\n",
    "commercial_building_footprints_combined = pd.concat([commercial_building_footprints, commercial_building_footprints_city], ignore_index=True)\n",
    "        \n",
    "# Save the combined GeoDataFrame to a geojson file\n",
    "commercial_building_footprints_combined.to_file(\"data/osm_data/all_london_commercial_buildings.geojson\", driver=\"GeoJSON\")"
   ]
  },
  {
   "cell_type": "code",
   "execution_count": null,
   "id": "de910870",
   "metadata": {},
   "outputs": [],
   "source": [
    "#Download Data for Birmingham\n",
    "place_name = 'Birmingham, United Kingdom'\n",
    "\n",
    "commercial_buildings = ox.features_from_place(place_name, tags={'building': ['commercial']})\n",
    "\n",
    "commercial_buildings = commercial_buildings[commercial_buildings.geometry.notnull()]\n",
    "commercial_building_footprints = commercial_buildings[commercial_buildings.geom_type.isin(['Polygon', 'MultiPolygon'])]\n",
    "\n",
    "for col in commercial_building_footprints.columns:\n",
    "    if commercial_building_footprints.apply(lambda x: isinstance(x, list)).any():\n",
    "        commercial_building_footprints = commercial_building_footprints[col].apply(lambda x: str(x) if isinstance(x, list) else x)\n",
    "\n",
    "commercial_building_footprints = commercial_building_footprints[['name', 'geometry']].reset_index()\n",
    "print(commercial_building_footprints)\n",
    "        \n",
    "# Save the combined GeoDataFrame to a geojson file\n",
    "commercial_building_footprints.to_file(\"data/osm_data/bham_commercial_buildings.geojson\", driver=\"GeoJSON\")"
   ]
  },
  {
   "attachments": {},
   "cell_type": "markdown",
   "id": "898f815c",
   "metadata": {},
   "source": [
    "### Extract Building Type Info from OSM - Office"
   ]
  },
  {
   "cell_type": "code",
   "execution_count": null,
   "id": "66af46ca",
   "metadata": {},
   "outputs": [],
   "source": [
    "# Download Data for 32 Boroughs (Exc. City of London)\n",
    "place_name = 'London, United Kingdom'\n",
    "\n",
    "ox.config(use_cache=True, log_console=True)\n",
    "\n",
    "office_buildings = ox.features_from_place(place_name, tags={'building': ['office']})\n",
    "\n",
    "office_buildings = office_buildings[office_buildings.geometry.notnull()]\n",
    "office_building_footprints = office_buildings[office_buildings.geom_type.isin(['Polygon', 'MultiPolygon'])]\n",
    "\n",
    "for col in office_building_footprints.columns:\n",
    "    if office_building_footprints.apply(lambda x: isinstance(x, list)).any():\n",
    "        office_building_footprints[col] = office_building_footprints[col].apply(lambda x: str(x) if isinstance(x, list) else x)\n",
    "\n",
    "office_building_footprints = office_building_footprints[['name', 'geometry']].reset_index()\n",
    "print(office_building_footprints)\n",
    "        \n",
    "# Save the combined GeoDataFrame to a geojson file\n",
    "office_building_footprints.to_file(\"data/osm_data/boroughs_office_buildings.geojson\", driver=\"GeoJSON\")\n"
   ]
  },
  {
   "cell_type": "code",
   "execution_count": null,
   "id": "30fb2ace",
   "metadata": {},
   "outputs": [],
   "source": [
    "#Add City of London\n",
    "place_name = 'City of London, England, United Kingdom'\n",
    "\n",
    "office_buildings_city = ox.features_from_place(place_name, tags={'building': ['office']})\n",
    "office_buildings_city = office_buildings_city[office_buildings_city.geometry.notnull()]\n",
    "office_building_footprints_city = office_buildings_city[office_buildings_city.geom_type.isin(['Polygon', 'MultiPolygon'])]\n",
    "\n",
    "for col in office_building_footprints_city.columns:\n",
    "    if office_building_footprints_city.apply(lambda x: isinstance(x, list)).any():\n",
    "        office_building_footprints_city = office_building_footprints_city[col].apply(lambda x: str(x) if isinstance(x, list) else x)\n",
    "\n",
    "office_building_footprints_city = office_building_footprints_city[['name', 'geometry']].reset_index()\n",
    "\n",
    "office_building_footprints_combined = pd.concat([office_building_footprints, office_building_footprints_city], ignore_index=True)\n",
    "        \n",
    "# Save the combined GeoDataFrame to a geojson file\n",
    "office_building_footprints_combined.to_file(\"data/osm_data/all_london_office_buildings.geojson\", driver=\"GeoJSON\")"
   ]
  },
  {
   "cell_type": "code",
   "execution_count": null,
   "id": "e1a88696",
   "metadata": {},
   "outputs": [],
   "source": [
    "#Download Data for Birmingham\n",
    "place_name = 'Birmingham, United Kingdom'\n",
    "\n",
    "ox.config(use_cache=True, log_console=True)\n",
    "\n",
    "office_buildings = ox.features_from_place(place_name, tags={'building': ['office']})\n",
    "\n",
    "office_buildings = office_buildings[office_buildings.geometry.notnull()]\n",
    "office_building_footprints = office_buildings[office_buildings.geom_type.isin(['Polygon', 'MultiPolygon'])]\n",
    "\n",
    "for col in office_building_footprints.columns:\n",
    "    if office_building_footprints.apply(lambda x: isinstance(x, list)).any():\n",
    "        office_building_footprints[col] = office_building_footprints[col].apply(lambda x: str(x) if isinstance(x, list) else x)\n",
    "\n",
    "office_building_footprints = office_building_footprints[['name', 'geometry']].reset_index()\n",
    "print(office_building_footprints)\n",
    "        \n",
    "# Save the combined GeoDataFrame to a geojson file\n",
    "office_building_footprints.to_file(\"data/osm_data/bham_office_buildings.geojson\", driver=\"GeoJSON\")\n"
   ]
  },
  {
   "attachments": {},
   "cell_type": "markdown",
   "id": "db15e399",
   "metadata": {},
   "source": [
    "### Extract Building Type Info from OSM - Residential"
   ]
  },
  {
   "cell_type": "code",
   "execution_count": null,
   "id": "984cc654",
   "metadata": {},
   "outputs": [],
   "source": [
    "# Download Data for 32 Boroughs (Exc. City of London)\n",
    "place_name = 'London, United Kingdom'\n",
    "\n",
    "ox.config(use_cache=True, log_console=True)\n",
    "\n",
    "residential_buildings = ox.features_from_place(place_name, tags={'building': ['residential']})\n",
    "\n",
    "residential_buildings = residential_buildings[residential_buildings.geometry.notnull()]\n",
    "residential_building_footprints = residential_buildings[residential_buildings.geom_type.isin(['Polygon', 'MultiPolygon'])]\n",
    "\n",
    "for col in residential_building_footprints.columns:\n",
    "    if residential_building_footprints.apply(lambda x: isinstance(x, list)).any():\n",
    "        residential_building_footprints[col] = residential_building_footprints[col].apply(lambda x: str(x) if isinstance(x, list) else x)\n",
    "\n",
    "residential_building_footprints = residential_building_footprints[['name', 'geometry']].reset_index()\n",
    "print(residential_building_footprints)\n",
    "        \n",
    "# Save the combined GeoDataFrame to a geojson file\n",
    "residential_building_footprints.to_file(\"data/osm_data/boroughs_residential_buildings.geojson\", driver=\"GeoJSON\")\n"
   ]
  },
  {
   "cell_type": "code",
   "execution_count": null,
   "id": "3e4ddf58",
   "metadata": {},
   "outputs": [],
   "source": [
    "#Add City of London\n",
    "place_name = 'City of London, England, United Kingdom'\n",
    "\n",
    "residential_buildings_city = ox.features_from_place(place_name, tags={'building': ['residential']})\n",
    "residential_buildings_city = residential_buildings_city[residential_buildings_city.geometry.notnull()]\n",
    "residential_building_footprints_city = residential_buildings_city[residential_buildings_city.geom_type.isin(['Polygon', 'MultiPolygon'])]\n",
    "\n",
    "for col in residential_building_footprints_city.columns:\n",
    "    if residential_building_footprints_city.apply(lambda x: isinstance(x, list)).any():\n",
    "        residential_building_footprints_city = residential_building_footprints_city[col].apply(lambda x: str(x) if isinstance(x, list) else x)\n",
    "\n",
    "residential_building_footprints_city = residential_building_footprints_city[['name', 'geometry']].reset_index()\n",
    "\n",
    "residential_building_footprints_combined = pd.concat([residential_building_footprints, residential_building_footprints_city], ignore_index=True)\n",
    "        \n",
    "# Save the combined GeoDataFrame to a geojson file\n",
    "residential_building_footprints_combined.to_file(\"data/osm_data/all_london_residential_buildings.geojson\", driver=\"GeoJSON\")"
   ]
  },
  {
   "cell_type": "code",
   "execution_count": null,
   "id": "78c76928",
   "metadata": {},
   "outputs": [],
   "source": [
    "#Download Data for Birmingham\n",
    "place_name = 'Birmingham, United Kingdom'\n",
    "\n",
    "ox.config(use_cache=True, log_console=True)\n",
    "\n",
    "residential_buildings = ox.features_from_place(place_name, tags={'building': ['residential']})\n",
    "\n",
    "residential_buildings = residential_buildings[residential_buildings.geometry.notnull()]\n",
    "residential_building_footprints = residential_buildings[residential_buildings.geom_type.isin(['Polygon', 'MultiPolygon'])]\n",
    "\n",
    "for col in residential_building_footprints.columns:\n",
    "    if residential_building_footprints.apply(lambda x: isinstance(x, list)).any():\n",
    "        residential_building_footprints[col] = residential_building_footprints[col].apply(lambda x: str(x) if isinstance(x, list) else x)\n",
    "\n",
    "residential_building_footprints = residential_building_footprints[['name', 'geometry']].reset_index()\n",
    "print(residential_building_footprints)\n",
    "        \n",
    "# Save the combined GeoDataFrame to a geojson file\n",
    "residential_building_footprints.to_file(\"data/osm_data/bham_residential_buildings.geojson\", driver=\"GeoJSON\")\n"
   ]
  },
  {
   "attachments": {},
   "cell_type": "markdown",
   "id": "05fa18d4",
   "metadata": {},
   "source": [
    "### Extract Building Type Info from OSM - Retail"
   ]
  },
  {
   "cell_type": "code",
   "execution_count": null,
   "id": "f6faba86",
   "metadata": {},
   "outputs": [],
   "source": [
    "# Download Data for 32 Boroughs (Exc. City of London)\n",
    "place_name = 'London, United Kingdom'\n",
    "\n",
    "ox.config(use_cache=True, log_console=True)\n",
    "\n",
    "retail_buildings = ox.features_from_place(place_name, tags={'building': ['retail']})\n",
    "\n",
    "retail_buildings = retail_buildings[retail_buildings.geometry.notnull()]\n",
    "retail_building_footprints = retail_buildings[retail_buildings.geom_type.isin(['Polygon', 'MultiPolygon'])]\n",
    "\n",
    "for col in retail_building_footprints.columns:\n",
    "    if retail_building_footprints.apply(lambda x: isinstance(x, list)).any():\n",
    "        retail_building_footprints[col] = retail_building_footprints[col].apply(lambda x: str(x) if isinstance(x, list) else x)\n",
    "\n",
    "retail_building_footprints = retail_building_footprints[['name', 'geometry']].reset_index()\n",
    "print(retail_building_footprints)\n",
    "        \n",
    "# Save the combined GeoDataFrame to a geojson file\n",
    "retail_building_footprints.to_file(\"data/osm_data/boroughs_retail_buildings.geojson\", driver=\"GeoJSON\")\n"
   ]
  },
  {
   "cell_type": "code",
   "execution_count": null,
   "id": "25835e9e",
   "metadata": {},
   "outputs": [],
   "source": [
    "#Add City of London\n",
    "place_name = 'City of London, England, United Kingdom'\n",
    "\n",
    "retail_buildings_city = ox.features_from_place(place_name, tags={'building': ['retail']})\n",
    "retail_buildings_city = retail_buildings_city[retail_buildings_city.geometry.notnull()]\n",
    "retail_building_footprints_city = retail_buildings_city[retail_buildings_city.geom_type.isin(['Polygon', 'MultiPolygon'])]\n",
    "\n",
    "for col in retail_building_footprints_city.columns:\n",
    "    if retail_building_footprints_city.apply(lambda x: isinstance(x, list)).any():\n",
    "        retail_building_footprints_city = retail_building_footprints_city[col].apply(lambda x: str(x) if isinstance(x, list) else x)\n",
    "\n",
    "retail_building_footprints_city = retail_building_footprints_city[['name', 'geometry']].reset_index()\n",
    "\n",
    "retail_building_footprints_combined = pd.concat([retail_building_footprints, retail_building_footprints_city], ignore_index=True)\n",
    "        \n",
    "# Save the combined GeoDataFrame to a geojson file\n",
    "retail_building_footprints_combined.to_file(\"data/osm_data/all_london_retail_buildings.geojson\", driver=\"GeoJSON\")"
   ]
  },
  {
   "cell_type": "code",
   "execution_count": null,
   "id": "a11b84f6",
   "metadata": {},
   "outputs": [],
   "source": [
    "#Download Data for Birmingham\n",
    "place_name = 'Birmingham, United Kingdom'\n",
    "\n",
    "ox.config(use_cache=True, log_console=True)\n",
    "\n",
    "retail_buildings = ox.features_from_place(place_name, tags={'building': ['retail']})\n",
    "\n",
    "retail_buildings = retail_buildings[retail_buildings.geometry.notnull()]\n",
    "retail_building_footprints = retail_buildings[retail_buildings.geom_type.isin(['Polygon', 'MultiPolygon'])]\n",
    "\n",
    "for col in retail_building_footprints.columns:\n",
    "    if retail_building_footprints.apply(lambda x: isinstance(x, list)).any():\n",
    "        retail_building_footprints[col] = retail_building_footprints[col].apply(lambda x: str(x) if isinstance(x, list) else x)\n",
    "\n",
    "retail_building_footprints = retail_building_footprints[['name', 'geometry']].reset_index()\n",
    "print(retail_building_footprints)\n",
    "        \n",
    "# Save the combined GeoDataFrame to a geojson file\n",
    "retail_building_footprints.to_file(\"data/osm_data/bham_retail_buildings.geojson\", driver=\"GeoJSON\")\n"
   ]
  }
 ],
 "metadata": {
  "kernelspec": {
   "display_name": "urbsim",
   "language": "python",
   "name": "urbsim"
  },
  "language_info": {
   "codemirror_mode": {
    "name": "ipython",
    "version": 3
   },
   "file_extension": ".py",
   "mimetype": "text/x-python",
   "name": "python",
   "nbconvert_exporter": "python",
   "pygments_lexer": "ipython3",
   "version": "3.11.7"
  }
 },
 "nbformat": 4,
 "nbformat_minor": 5
}
