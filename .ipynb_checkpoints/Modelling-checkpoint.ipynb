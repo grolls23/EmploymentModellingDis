{
 "cells": [
  {
   "cell_type": "markdown",
   "id": "b7542fb7-3702-466a-8c2d-837e1e6d4ed3",
   "metadata": {},
   "source": [
    "# Modelling\n",
    "\n",
    "This is the script where I store all my ML model runs"
   ]
  },
  {
   "cell_type": "markdown",
   "id": "2d305a93-526f-4ed4-993f-96d593fc9618",
   "metadata": {},
   "source": [
    "## Library Imports"
   ]
  },
  {
   "cell_type": "code",
   "execution_count": null,
   "id": "b90b1626-165f-4b79-8d67-7b3afa023602",
   "metadata": {},
   "outputs": [],
   "source": [
    "# Library Imports\n",
    "\n",
    "#Basics\n",
    "import pandas as pd\n",
    "import geopandas as gpd\n",
    "import numpy as np\n",
    "\n",
    "#Shapely / Spatial\n",
    "from shapely import wkt\n",
    "import shapely.geometry\n",
    "from shapely.geometry import Polygon, MultiPolygon\n",
    "\n",
    "#Machine Learning\n",
    "from sklearn.model_selection import train_test_split\n",
    "from sklearn.metrics import r2_score, mean_squared_error\n",
    "from sklearn.preprocessing import OneHotEncoder\n",
    "\n",
    "#ML from mljar-supervised\n",
    "from supervised.automl import AutoML\n",
    "\n",
    "#Warning Supression\n",
    "import warnings"
   ]
  },
  {
   "cell_type": "markdown",
   "id": "ca014449-6c4c-46d6-ba87-a578cbb9881d",
   "metadata": {},
   "source": [
    "## Models"
   ]
  },
  {
   "cell_type": "code",
   "execution_count": null,
   "id": "ce02ced4-41b4-46d0-89da-b9900f64442d",
   "metadata": {},
   "outputs": [],
   "source": [
    "### Employment (log), NO Spatial Lag, London"
   ]
  },
  {
   "cell_type": "code",
   "execution_count": null,
   "id": "ac80575c-2245-4464-abdd-a8997967e727",
   "metadata": {},
   "outputs": [],
   "source": [
    "### Employment (log), NO Spatial Lag, Birmingham"
   ]
  },
  {
   "cell_type": "code",
   "execution_count": null,
   "id": "cbef0bf3-04a1-489c-ae7b-5552895992bd",
   "metadata": {},
   "outputs": [],
   "source": [
    "### Employment (log), Spatial Lag, London"
   ]
  },
  {
   "cell_type": "code",
   "execution_count": null,
   "id": "4c5e16db-a923-45df-96fe-aa63e186fa14",
   "metadata": {},
   "outputs": [],
   "source": [
    "### Employment (log), Spatial Lag, Birmingham"
   ]
  },
  {
   "cell_type": "code",
   "execution_count": null,
   "id": "8e39466b-44a3-4721-b6c1-4ad1484b0f8d",
   "metadata": {},
   "outputs": [],
   "source": [
    "### Employment Density, NO Spatial Lag, London"
   ]
  },
  {
   "cell_type": "code",
   "execution_count": null,
   "id": "1faae03a-3177-4923-a949-53cae255a64d",
   "metadata": {},
   "outputs": [],
   "source": [
    "### Employment Density, NO Spatial Lag, Birmingham"
   ]
  },
  {
   "cell_type": "code",
   "execution_count": null,
   "id": "907fde61-ed19-43a6-b9b6-3951fb0bd473",
   "metadata": {},
   "outputs": [],
   "source": [
    "### Employment Density, Spatial Lag, London"
   ]
  },
  {
   "cell_type": "code",
   "execution_count": null,
   "id": "17bb150e-d907-41c8-a5cb-2d3d0e065417",
   "metadata": {},
   "outputs": [],
   "source": [
    "### Employment Density, Spatial Lag, Birmingham"
   ]
  },
  {
   "cell_type": "code",
   "execution_count": null,
   "id": "2f6e4682-7e10-4638-bb3c-a08c426b9f39",
   "metadata": {},
   "outputs": [],
   "source": [
    "### Office Employment (log), NO Spatial Lag, London"
   ]
  },
  {
   "cell_type": "code",
   "execution_count": null,
   "id": "015c372b-1b93-4550-b7f5-ece1ad3149b9",
   "metadata": {},
   "outputs": [],
   "source": [
    "### Office Employment (log), NO Spatial Lag, Birmingham"
   ]
  },
  {
   "cell_type": "code",
   "execution_count": null,
   "id": "7d3160a4-8d0e-4048-acb5-a9f8e51ef901",
   "metadata": {},
   "outputs": [],
   "source": [
    "### Office Employment (log), Spatial Lag, London"
   ]
  },
  {
   "cell_type": "code",
   "execution_count": null,
   "id": "c793ac54-59e8-4ff0-b95a-0bb60d1edd9a",
   "metadata": {},
   "outputs": [],
   "source": [
    "### Office Employment (log), Spatial Lag, Birmingham"
   ]
  },
  {
   "cell_type": "code",
   "execution_count": null,
   "id": "2d71df0a-6155-4d20-8f8e-785fcedb0f07",
   "metadata": {},
   "outputs": [],
   "source": [
    "### Office Employment Density, NO Spatial Lag, London"
   ]
  },
  {
   "cell_type": "code",
   "execution_count": null,
   "id": "a55bce22-ec2d-44c3-bb7d-bc7dffa612fb",
   "metadata": {},
   "outputs": [],
   "source": [
    "### Office Employment Density, NO Spatial Lag, Birmingham"
   ]
  },
  {
   "cell_type": "code",
   "execution_count": null,
   "id": "aa7767f0-98a2-483d-b85b-f71c9bfa5f29",
   "metadata": {},
   "outputs": [],
   "source": [
    "### Office Employment Density, Spatial Lag, London"
   ]
  },
  {
   "cell_type": "code",
   "execution_count": null,
   "id": "8d23c5af-6353-4386-a3b5-0da771cd7396",
   "metadata": {},
   "outputs": [],
   "source": [
    "### Office Employment Density, Spatial Lag, Birmingham"
   ]
  }
 ],
 "metadata": {
  "kernelspec": {
   "display_name": "urbsim",
   "language": "python",
   "name": "urbsim"
  },
  "language_info": {
   "codemirror_mode": {
    "name": "ipython",
    "version": 3
   },
   "file_extension": ".py",
   "mimetype": "text/x-python",
   "name": "python",
   "nbconvert_exporter": "python",
   "pygments_lexer": "ipython3",
   "version": "3.11.7"
  }
 },
 "nbformat": 4,
 "nbformat_minor": 5
}
