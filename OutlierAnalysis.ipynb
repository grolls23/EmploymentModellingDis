{
 "cells": [
  {
   "cell_type": "markdown",
   "id": "1db70f20-0936-4415-8d3a-2d0e416cd251",
   "metadata": {},
   "source": [
    "# Outlier Analysis\n",
    "### Gavin Rolls\n",
    "\n",
    "This notebook details the work done to a) identify outliers from the POI-only models run in the Modelling notebook and b) Understand how those locations might differ from other LSOAs"
   ]
  },
  {
   "cell_type": "markdown",
   "id": "ac5d0e94-588c-422d-83a3-06d2d62f10e0",
   "metadata": {},
   "source": [
    "### Library Imports"
   ]
  },
  {
   "cell_type": "code",
   "execution_count": 6,
   "id": "5d549aec-5907-441c-aa66-491bb0aa1f90",
   "metadata": {},
   "outputs": [],
   "source": [
    "#Basics\n",
    "import pandas as pd\n",
    "import geopandas as gpd\n",
    "import numpy as np\n",
    "\n",
    "#Plots and Stats\n",
    "import matplotlib.pyplot as plt\n",
    "import seaborn as sns\n",
    "\n",
    "# Geometry\n",
    "from shapely import wkt\n",
    "from shapely.geometry import Polygon, MultiPolygon"
   ]
  },
  {
   "cell_type": "markdown",
   "id": "fe454d91-9498-4b85-846d-c9cbac6ef725",
   "metadata": {},
   "source": [
    "### Data Loading"
   ]
  },
  {
   "cell_type": "code",
   "execution_count": 9,
   "id": "d2fe7802-f87c-484b-bee0-21555952ee3d",
   "metadata": {},
   "outputs": [],
   "source": [
    "# London & Birmingham All Data\n",
    "\n",
    "all_data_london = pd.read_csv(\"data/combined_data/lag/all_data_london_lag.csv\")\n",
    "all_data_bham = pd.read_csv(\"data/combined_data/lag/all_data_bham_lag.csv\")"
   ]
  },
  {
   "cell_type": "code",
   "execution_count": null,
   "id": "c2e9e5bb-1e84-4590-a75a-f22f3aae7f0a",
   "metadata": {},
   "outputs": [],
   "source": [
    "# LSOA Atlas Features\n",
    "\n",
    "lsoa_atlas = pd.read_csv(\"data/lsoa_data/"
   ]
  },
  {
   "cell_type": "code",
   "execution_count": null,
   "id": "b1057b86-3d13-4aea-829b-1effb8f2b8d9",
   "metadata": {},
   "outputs": [],
   "source": [
    "# POI Modelling Results\n",
    "\n",
    "# Want to get specifically the employment (log) as those models are better - this is models (13) and (14)\n",
    "\n"
   ]
  }
 ],
 "metadata": {
  "kernelspec": {
   "display_name": "urbsim",
   "language": "python",
   "name": "urbsim"
  },
  "language_info": {
   "codemirror_mode": {
    "name": "ipython",
    "version": 3
   },
   "file_extension": ".py",
   "mimetype": "text/x-python",
   "name": "python",
   "nbconvert_exporter": "python",
   "pygments_lexer": "ipython3",
   "version": "3.11.7"
  }
 },
 "nbformat": 4,
 "nbformat_minor": 5
}
