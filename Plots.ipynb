{
 "cells": [
  {
   "cell_type": "markdown",
   "id": "e922b023-2fb0-4656-bde8-fceb1dc46c67",
   "metadata": {},
   "source": [
    "# Plots\n",
    "\n",
    "This is a workspace for much of the plotting/data vis I need to do. I will do my best not to repeat visualisations created in the other files here"
   ]
  },
  {
   "cell_type": "markdown",
   "id": "747ee721-e930-4a6e-9f70-2617cadde953",
   "metadata": {},
   "source": [
    "## Library Imports"
   ]
  },
  {
   "cell_type": "code",
   "execution_count": 6,
   "id": "fed07d8c-811b-4e62-a4a6-51b547e35e56",
   "metadata": {},
   "outputs": [],
   "source": [
    "#Basics\n",
    "import pandas as pd\n",
    "import geopandas as gpd\n",
    "import numpy as np\n",
    "\n",
    "#Plots and Stats\n",
    "import matplotlib.pyplot as plt\n",
    "import seaborn as sns"
   ]
  },
  {
   "cell_type": "markdown",
   "id": "097bb70c-2eca-4e6a-9cf0-b647aff9877b",
   "metadata": {},
   "source": [
    "## Data Imports"
   ]
  },
  {
   "cell_type": "code",
   "execution_count": null,
   "id": "fea200f8-4a9f-4c90-baff-0541d3e3986e",
   "metadata": {},
   "outputs": [],
   "source": [
    "# Raw Overture Maps Places\n",
    "\n",
    "\n",
    "# All London Data\n",
    "\n",
    "\n",
    "# All Birmingham Data\n"
   ]
  },
  {
   "cell_type": "markdown",
   "id": "23ced5b5-b5ba-468b-8ebd-d990f2cb8e0d",
   "metadata": {},
   "source": [
    "## Plots"
   ]
  },
  {
   "cell_type": "markdown",
   "id": "30b26a76-16d4-4f1e-a978-45a70bc1bde3",
   "metadata": {},
   "source": [
    "### Kernel Density Estimation - Overture Maps Places"
   ]
  },
  {
   "cell_type": "code",
   "execution_count": null,
   "id": "47fcddda-d5ac-4651-89f9-91d622b599cd",
   "metadata": {},
   "outputs": [],
   "source": []
  },
  {
   "cell_type": "markdown",
   "id": "b2a6b7a4-6200-4c13-8228-e9f3d4295fe2",
   "metadata": {},
   "source": [
    "### Collinearity Checks"
   ]
  },
  {
   "cell_type": "code",
   "execution_count": null,
   "id": "cb4d3a7a-f8dd-4fda-9adf-2d5b4a567506",
   "metadata": {},
   "outputs": [],
   "source": []
  },
  {
   "cell_type": "markdown",
   "id": "19cf734c-3b42-475a-981e-96a0c7973ecc",
   "metadata": {},
   "source": [
    "### Example Building Footprint Images"
   ]
  },
  {
   "cell_type": "code",
   "execution_count": null,
   "id": "17664aee-5458-4b2b-853d-10a2c67a49aa",
   "metadata": {},
   "outputs": [],
   "source": []
  },
  {
   "cell_type": "markdown",
   "id": "ce18cf9f-f858-4437-8e7a-6689f0fe0048",
   "metadata": {},
   "source": [
    "### (logged) Feature Distribution Maps"
   ]
  },
  {
   "cell_type": "code",
   "execution_count": null,
   "id": "b16be04f-7a58-4f79-94d3-5c985300069f",
   "metadata": {},
   "outputs": [],
   "source": []
  },
  {
   "cell_type": "markdown",
   "id": "ad236538-b932-4015-af90-3673a4a41ff6",
   "metadata": {},
   "source": [
    "### Overture Confidence Histogram"
   ]
  },
  {
   "cell_type": "code",
   "execution_count": null,
   "id": "4ce58a00-9998-4574-9bee-e663e163180e",
   "metadata": {},
   "outputs": [],
   "source": []
  }
 ],
 "metadata": {
  "kernelspec": {
   "display_name": "urbsim",
   "language": "python",
   "name": "urbsim"
  },
  "language_info": {
   "codemirror_mode": {
    "name": "ipython",
    "version": 3
   },
   "file_extension": ".py",
   "mimetype": "text/x-python",
   "name": "python",
   "nbconvert_exporter": "python",
   "pygments_lexer": "ipython3",
   "version": "3.11.7"
  }
 },
 "nbformat": 4,
 "nbformat_minor": 5
}
