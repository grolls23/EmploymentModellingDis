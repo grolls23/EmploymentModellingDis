{
 "cells": [
  {
   "cell_type": "markdown",
   "id": "e922b023-2fb0-4656-bde8-fceb1dc46c67",
   "metadata": {},
   "source": [
    "# Plots\n",
    "\n",
    "This is a workspace for much of the plotting/data vis I need to do. I will do my best not to repeat visualisations created in the other files here"
   ]
  }
 ],
 "metadata": {
  "kernelspec": {
   "display_name": "urbsim",
   "language": "python",
   "name": "urbsim"
  },
  "language_info": {
   "codemirror_mode": {
    "name": "ipython",
    "version": 3
   },
   "file_extension": ".py",
   "mimetype": "text/x-python",
   "name": "python",
   "nbconvert_exporter": "python",
   "pygments_lexer": "ipython3",
   "version": "3.11.7"
  }
 },
 "nbformat": 4,
 "nbformat_minor": 5
}
